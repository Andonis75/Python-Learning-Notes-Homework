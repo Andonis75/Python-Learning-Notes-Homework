{
 "cells": [
  {
   "metadata": {},
   "cell_type": "markdown",
   "source": [
    "# List(列表)\n",
    "\n",
    "## 介绍\n",
    "\n",
    "list 是 Python 中最通用的数据类型，可以写成一个由逗号分隔的 值（项）的列表。\n",
    "其中的值不需要相同的数据类型。\n",
    "\n",
    "## 列表值与数据切割\n",
    "\n",
    "要访问列表中的值，请使用方括号进行切片，并使用一个或多个索引来获取该索引中的可用值要访问列表中的值，请使用方括号进行切片，并使用一个或多个索引来获取该索引中的可用值  \n",
    "` List[Start:End:Step] `  \n",
    "Start:开始的序号  \n",
    "End:倒数第二个序号,要输出最后一个元素要+1  \n",
    "Step:每隔(Step-1)个输出  "
   ],
   "id": "b2dc4a6a07b4a43f"
  },
  {
   "metadata": {
    "ExecuteTime": {
     "end_time": "2024-11-24T12:53:35.901249Z",
     "start_time": "2024-11-24T12:53:35.897155Z"
    }
   },
   "cell_type": "code",
   "source": [
    "from soupsieve.css_match import DAYS_IN_WEEK\n",
    "\n",
    "list1 = ['physics', 'chemistry', 1997, 2000]\n",
    "list2 = [1, 2, 3, 4, 5, 6, 7]\n",
    "print(\"list1[0]: \", list1[0]) \n",
    "print(\"list1[0:3]: \", list1[0:3]) \n",
    "print(\"list1[0:4:1]: \", list1[0:4:2])\n",
    "print( \"list2[1:5]: \", list2[1:5]) \n",
    "print( \"list2[-5:-1]: \", list2[-5:-1])#不包括list2[-1]\n",
    "print( \"list2[-5:-1:-1]: \", list2[-1:-5:-1])#回文，不包括list2[-5]\n",
    "print( \"list2[::-1]: \", list2[::-1])#回文\n",
    "print( \"list2[-1]: \", list2[-1])"
   ],
   "id": "d627ca8e66831464",
   "outputs": [
    {
     "name": "stdout",
     "output_type": "stream",
     "text": [
      "list1[0]:  physics\n",
      "list1[0:3]:  ['physics', 'chemistry', 1997]\n",
      "list1[0:4:1]:  ['physics', 1997]\n",
      "list2[1:5]:  [2, 3, 4, 5]\n",
      "list2[-5:-1]:  [3, 4, 5, 6]\n",
      "list2[-5:-1:-1]:  [7, 6, 5, 4]\n",
      "list2[::-1]:  [7, 6, 5, 4, 3, 2, 1]\n",
      "list2[-1]:  7\n"
     ]
    }
   ],
   "execution_count": 25
  },
  {
   "metadata": {},
   "cell_type": "markdown",
   "source": [
    "## 列表赋值  \n",
    "直接通过中括号赋值即可"
   ],
   "id": "54356737a9194ead"
  },
  {
   "metadata": {
    "ExecuteTime": {
     "end_time": "2024-11-24T12:53:35.975776Z",
     "start_time": "2024-11-24T12:53:35.968622Z"
    }
   },
   "cell_type": "code",
   "source": [
    "list2=[0,1,2]\n",
    "print(list2[2])\n",
    "list2[2]=2001\n",
    "print(list2[2])"
   ],
   "id": "272b176bcdc107bd",
   "outputs": [
    {
     "name": "stdout",
     "output_type": "stream",
     "text": [
      "2\n",
      "2001\n"
     ]
    }
   ],
   "execution_count": 26
  },
  {
   "metadata": {},
   "cell_type": "markdown",
   "source": [
    "## 列表添加元素\n",
    "使用 ` list.append() `"
   ],
   "id": "954b5752c7566e96"
  },
  {
   "metadata": {
    "ExecuteTime": {
     "end_time": "2024-11-24T12:53:36.001731Z",
     "start_time": "2024-11-24T12:53:35.994671Z"
    }
   },
   "cell_type": "code",
   "source": [
    "list2.append(3)\n",
    "print(list2)"
   ],
   "id": "9c6e69852cdff4c5",
   "outputs": [
    {
     "name": "stdout",
     "output_type": "stream",
     "text": [
      "[0, 1, 2001, 3]\n"
     ]
    }
   ],
   "execution_count": 27
  },
  {
   "metadata": {},
   "cell_type": "markdown",
   "source": [
    "## 列表删除元素\n",
    "使用 ` del(list[X]) ` 或者 ` list.pop(X) `(X是元素所在的序号,若不填写则为最后一个,若对变量赋值为它,则为最后一个元素) 或者 ` list.remove(element)`(element是元素值)"
   ],
   "id": "71399cd245f3ffab"
  },
  {
   "metadata": {
    "ExecuteTime": {
     "end_time": "2024-11-24T12:53:36.053858Z",
     "start_time": "2024-11-24T12:53:36.050488Z"
    }
   },
   "cell_type": "code",
   "source": [
    "del(list2[2])\n",
    "print(list2)\n",
    "list2.append(4)\n",
    "list2.pop(-1)\n",
    "print(list2)\n",
    "list2.append(4)\n",
    "list2.remove(4)"
   ],
   "id": "a0e879b6a40173f3",
   "outputs": [
    {
     "name": "stdout",
     "output_type": "stream",
     "text": [
      "[0, 1, 3]\n",
      "[0, 1, 3]\n"
     ]
    }
   ],
   "execution_count": 28
  },
  {
   "metadata": {},
   "cell_type": "markdown",
   "source": [
    "## 列表获取长度  \n",
    "使用 ` len(list) `,返回一个int"
   ],
   "id": "188e7661e220e77"
  },
  {
   "metadata": {
    "ExecuteTime": {
     "end_time": "2024-11-24T12:53:36.131386Z",
     "start_time": "2024-11-24T12:53:36.128604Z"
    }
   },
   "cell_type": "code",
   "source": [
    "print(len(list2))\n",
    "print(type(len(list2)))"
   ],
   "id": "dfafadd594be28e5",
   "outputs": [
    {
     "name": "stdout",
     "output_type": "stream",
     "text": [
      "3\n",
      "<class 'int'>\n"
     ]
    }
   ],
   "execution_count": 29
  },
  {
   "metadata": {},
   "cell_type": "markdown",
   "source": [
    "## 列表相加  \n",
    "使用 ` + `,连接两个列表"
   ],
   "id": "ee89e407a1fde267"
  },
  {
   "metadata": {
    "ExecuteTime": {
     "end_time": "2024-11-24T12:53:36.156299Z",
     "start_time": "2024-11-24T12:53:36.150374Z"
    }
   },
   "cell_type": "code",
   "source": [
    "list1=[3,4,5]\n",
    "print(list2+list1)"
   ],
   "id": "ffd05aa64b6a3a43",
   "outputs": [
    {
     "name": "stdout",
     "output_type": "stream",
     "text": [
      "[0, 1, 3, 3, 4, 5]\n"
     ]
    }
   ],
   "execution_count": 30
  },
  {
   "metadata": {},
   "cell_type": "markdown",
   "source": [
    "## 列表元素重复添加 \n",
    "使用 ` *X `,重复添加元素"
   ],
   "id": "9ced3a57a294151f"
  },
  {
   "metadata": {
    "ExecuteTime": {
     "end_time": "2024-11-24T12:53:36.229769Z",
     "start_time": "2024-11-24T12:53:36.226573Z"
    }
   },
   "cell_type": "code",
   "source": [
    "list3=[\"Hi\",\"Hello\"]*3\n",
    "print(list3)\n"
   ],
   "id": "26a2d3219d281db0",
   "outputs": [
    {
     "name": "stdout",
     "output_type": "stream",
     "text": [
      "['Hi', 'Hello', 'Hi', 'Hello', 'Hi', 'Hello']\n"
     ]
    }
   ],
   "execution_count": 31
  },
  {
   "metadata": {},
   "cell_type": "markdown",
   "source": [
    "## 列表判断元素是否在列表\n",
    "使用 ` element in count `,返回一个True/False"
   ],
   "id": "80fd072ccd3992b9"
  },
  {
   "metadata": {
    "ExecuteTime": {
     "end_time": "2024-11-24T12:53:36.307230Z",
     "start_time": "2024-11-24T12:53:36.302575Z"
    }
   },
   "cell_type": "code",
   "source": "print(\"Hi\" in list3)",
   "id": "a0270c0f938604bb",
   "outputs": [
    {
     "name": "stdout",
     "output_type": "stream",
     "text": [
      "True\n"
     ]
    }
   ],
   "execution_count": 32
  },
  {
   "metadata": {},
   "cell_type": "markdown",
   "source": [
    "## 列表遍历元素的值\n",
    "使用 ` for element in list:`,第二行缩进,element可以是任意变量名,返回的是遍历的元素值"
   ],
   "id": "a3ae34766240f1d"
  },
  {
   "metadata": {
    "ExecuteTime": {
     "end_time": "2024-11-24T12:53:36.361127Z",
     "start_time": "2024-11-24T12:53:36.358279Z"
    }
   },
   "cell_type": "code",
   "source": [
    "for element in list3:\n",
    "    print(element)"
   ],
   "id": "e8a81fcd34db4646",
   "outputs": [
    {
     "name": "stdout",
     "output_type": "stream",
     "text": [
      "Hi\n",
      "Hello\n",
      "Hi\n",
      "Hello\n",
      "Hi\n",
      "Hello\n"
     ]
    }
   ],
   "execution_count": 33
  },
  {
   "metadata": {},
   "cell_type": "markdown",
   "source": [
    "## 列表判断元素出现次数\n",
    "使用 ` list.count(element) `,查找元素的数量,返回一个int"
   ],
   "id": "e8633081daf08298"
  },
  {
   "metadata": {
    "ExecuteTime": {
     "end_time": "2024-11-24T12:53:36.429458Z",
     "start_time": "2024-11-24T12:53:36.426194Z"
    }
   },
   "cell_type": "code",
   "source": [
    "print(list3)\n",
    "print(list3.count(\"Hi\"))"
   ],
   "id": "9cb2da5867e54ac2",
   "outputs": [
    {
     "name": "stdout",
     "output_type": "stream",
     "text": [
      "['Hi', 'Hello', 'Hi', 'Hello', 'Hi', 'Hello']\n",
      "3\n"
     ]
    }
   ],
   "execution_count": 34
  },
  {
   "metadata": {},
   "cell_type": "markdown",
   "source": [
    "## 列表数据反向排序\n",
    "使用 ` list.reverse() `,返回一个元素排序相反的list  "
   ],
   "id": "94b01c0f6164c956"
  },
  {
   "metadata": {
    "ExecuteTime": {
     "end_time": "2024-11-24T12:53:36.496907Z",
     "start_time": "2024-11-24T12:53:36.491993Z"
    }
   },
   "cell_type": "code",
   "source": [
    "list3.reverse()\n",
    "print(list3)"
   ],
   "id": "fbd2a01843ff94f0",
   "outputs": [
    {
     "name": "stdout",
     "output_type": "stream",
     "text": [
      "['Hello', 'Hi', 'Hello', 'Hi', 'Hello', 'Hi']\n"
     ]
    }
   ],
   "execution_count": 35
  },
  {
   "metadata": {},
   "cell_type": "markdown",
   "source": [
    "## 获取特定元素\n",
    "使用 ` max(list) ` 和 `min(list)` 分别获取列表中第一个序号的最大/最小元素\n"
   ],
   "id": "f8da4244cf57e35b"
  },
  {
   "metadata": {
    "ExecuteTime": {
     "end_time": "2024-11-24T12:53:36.549902Z",
     "start_time": "2024-11-24T12:53:36.547395Z"
    }
   },
   "cell_type": "code",
   "source": [
    "list_=[1,2,3,4,5,6,7]\n",
    "print(max(list_))\n",
    "print(min(list_))"
   ],
   "id": "21d578e2bd081449",
   "outputs": [
    {
     "name": "stdout",
     "output_type": "stream",
     "text": [
      "7\n",
      "1\n"
     ]
    }
   ],
   "execution_count": 36
  },
  {
   "metadata": {},
   "cell_type": "markdown",
   "source": [
    "## **注意**\n",
    "**list最好不要作为变量名，否则会使list()函数失效**"
   ],
   "id": "9251b6ca6164be97"
  },
  {
   "metadata": {},
   "cell_type": "markdown",
   "source": [
    "# 元组（Tuple） \n",
    "使用小括号,集合起所有元素、元素值**无法更改**的列表\n",
    "但是可以通过给新变量赋值来组合起原有元组\n",
    "## 删除整个元组\n",
    "可以通过 `del(tuple)` 来删除整个元组\n",
    "##  适用方法\n",
    "获取长度、添加、切分、最大最小值、for、in\n",
    "## 数据集的转换\n",
    "使用 `tuple(list)` 来将列表转换成元组\n",
    "## 注意\n",
    "tuple没有 `.reverse` 函数"
   ],
   "id": "5b47a91aec3c4b89"
  },
  {
   "metadata": {
    "ExecuteTime": {
     "end_time": "2024-11-24T12:53:36.604600Z",
     "start_time": "2024-11-24T12:53:36.600463Z"
    }
   },
   "cell_type": "code",
   "source": [
    "tup=(1,2,3,4,5)\n",
    "tup2=(\"cat\",\"dog\")\n",
    "tup3=tup+tup2\n",
    "print(tup3)\n",
    "\n",
    "list4=[1,2,3,4]\n",
    "print(tuple(list4))\n"
   ],
   "id": "f7b75d9c5a2ef742",
   "outputs": [
    {
     "name": "stdout",
     "output_type": "stream",
     "text": [
      "(1, 2, 3, 4, 5, 'cat', 'dog')\n",
      "(1, 2, 3, 4)\n"
     ]
    }
   ],
   "execution_count": 37
  },
  {
   "metadata": {},
   "cell_type": "markdown",
   "source": [
    "## 元组访问\n",
    "可以使用下标索引来访问元组中的值\n"
   ],
   "id": "49d6376b6f8fceac"
  },
  {
   "metadata": {
    "ExecuteTime": {
     "end_time": "2024-11-24T12:53:36.691420Z",
     "start_time": "2024-11-24T12:53:36.683764Z"
    }
   },
   "cell_type": "code",
   "source": [
    "tup1 = ('physics', 'chemistry', 1997, 2000)\n",
    "tup2 = (1, 2, 3, 4, 5, 6, 7 )\n",
    " \n",
    "print(\"tup1[0]: \", tup1[0])\n",
    "print(\"tup2[1:5]: \", tup2[1:5])"
   ],
   "id": "6623f1016f02dcb3",
   "outputs": [
    {
     "name": "stdout",
     "output_type": "stream",
     "text": [
      "tup1[0]:  physics\n",
      "tup2[1:5]:  (2, 3, 4, 5)\n"
     ]
    }
   ],
   "execution_count": 38
  },
  {
   "metadata": {},
   "cell_type": "markdown",
   "source": [
    "## 单元素元组声明\n",
    "元组中只包含一个元素时，需要在元素后面添加逗号"
   ],
   "id": "f91b6ea16076d145"
  },
  {
   "metadata": {
    "ExecuteTime": {
     "end_time": "2024-11-24T12:53:36.752217Z",
     "start_time": "2024-11-24T12:53:36.750059Z"
    }
   },
   "cell_type": "code",
   "source": "tup_=(1,)",
   "id": "8b914a801aca3454",
   "outputs": [],
   "execution_count": 39
  },
  {
   "metadata": {},
   "cell_type": "markdown",
   "source": [
    "# 字典  \n",
    "## 表示\n",
    "字典的每个键值 `key:value` 对用冒号 `:` 分割，每个键值对之间用逗号 `,` 分割，整个字典包括在花括号 `{}` 中 "
   ],
   "id": "9e3ca2f0b884eb78"
  },
  {
   "metadata": {
    "ExecuteTime": {
     "end_time": "2024-11-24T12:53:36.785751Z",
     "start_time": "2024-11-24T12:53:36.781994Z"
    }
   },
   "cell_type": "code",
   "source": "#d = {key1 : value1, key2 : value2 }",
   "id": "9497531e7466ee08",
   "outputs": [],
   "execution_count": 40
  },
  {
   "metadata": {},
   "cell_type": "markdown",
   "source": [
    "## key与value引用方法  \n",
    "可以通过`dict[key]`来输出对应的Value,**但是不能**通过`dict[value]`找Key  "
   ],
   "id": "15eaa51342d5a76a"
  },
  {
   "metadata": {
    "ExecuteTime": {
     "end_time": "2024-11-24T12:53:36.791218Z",
     "start_time": "2024-11-24T12:53:36.785751Z"
    }
   },
   "cell_type": "code",
   "source": [
    "dict_={'Name':'Liu','Age':18,'Class':1}\n",
    "print(\"dict_['Name']:\",dict_['Name'])"
   ],
   "id": "610d592db6a3c30f",
   "outputs": [
    {
     "name": "stdout",
     "output_type": "stream",
     "text": [
      "dict_['Name']: Liu\n"
     ]
    }
   ],
   "execution_count": 41
  },
  {
   "metadata": {},
   "cell_type": "markdown",
   "source": [
    "## 修改Key对应的Value值\n",
    "通过 `dict[key]=new value`来进行新的赋值  \n",
    " **注意：键一般是唯一的，如果重复最后的一个键值对会替换前面的，值不需要唯一。**"
   ],
   "id": "4b5ea511140e650d"
  },
  {
   "metadata": {
    "ExecuteTime": {
     "end_time": "2024-11-24T12:53:36.801140Z",
     "start_time": "2024-11-24T12:53:36.795249Z"
    }
   },
   "cell_type": "code",
   "source": [
    "dict_['Name']=\"ABC\"\n",
    "print(\"dict_['Name']:\",dict_['Name'])"
   ],
   "id": "e7022a1d16c4f8e9",
   "outputs": [
    {
     "name": "stdout",
     "output_type": "stream",
     "text": [
      "dict_['Name']: ABC\n"
     ]
    }
   ],
   "execution_count": 42
  },
  {
   "metadata": {},
   "cell_type": "markdown",
   "source": [
    "## 删除Key对应的Value值\n",
    "通过 `del dict[key]`删除对应 value  \n",
    "通过 `del dict` 删除整个字典  \n",
    "通过 `dict.clear()`删除整个字典的值  "
   ],
   "id": "1b977ebde9f73b27"
  },
  {
   "metadata": {
    "ExecuteTime": {
     "end_time": "2024-11-24T12:53:36.836708Z",
     "start_time": "2024-11-24T12:53:36.833691Z"
    }
   },
   "cell_type": "code",
   "source": [
    "del dict_\n",
    "\n",
    "dict_={'Name':'Liu','Age':18,'Class':1}\n",
    "dict_.clear()\n",
    "print(dict_)"
   ],
   "id": "2a80e2e8cd8252a6",
   "outputs": [
    {
     "name": "stdout",
     "output_type": "stream",
     "text": [
      "{}\n"
     ]
    }
   ],
   "execution_count": 43
  },
  {
   "metadata": {},
   "cell_type": "markdown",
   "source": [
    "## 获取字典信息  \n",
    "通过`len(dict)` 获取key/value的数量  \n",
    "通过`dict.items()`以元组形式列出所有的key与value值  \n",
    "通过`dict.keys()` 列出所有的key值  \n",
    "通过`dict.values()`列出所有的value值  "
   ],
   "id": "71e287bb763263ec"
  },
  {
   "metadata": {
    "ExecuteTime": {
     "end_time": "2024-11-24T12:53:36.886062Z",
     "start_time": "2024-11-24T12:53:36.883107Z"
    }
   },
   "cell_type": "code",
   "source": [
    "dict_1={'Name':'Liu','Age':18,'Class':1}\n",
    "print(len(dict_1))\n",
    "print(dict_1.items())\n",
    "print(dict_1.values()) \n",
    "print(dict_1.keys())"
   ],
   "id": "d316c5e2ad965e5f",
   "outputs": [
    {
     "name": "stdout",
     "output_type": "stream",
     "text": [
      "3\n",
      "dict_items([('Name', 'Liu'), ('Age', 18), ('Class', 1)])\n",
      "dict_values(['Liu', 18, 1])\n",
      "dict_keys(['Name', 'Age', 'Class'])\n"
     ]
    }
   ],
   "execution_count": 44
  },
  {
   "metadata": {},
   "cell_type": "markdown",
   "source": [
    "## 转换字典到其他数据格式\n",
    "通过 `str(dict)` "
   ],
   "id": "6b0abaf44cc5bfc4"
  },
  {
   "metadata": {
    "ExecuteTime": {
     "end_time": "2024-11-24T12:53:36.952730Z",
     "start_time": "2024-11-24T12:53:36.949471Z"
    }
   },
   "cell_type": "code",
   "source": [
    "dict_={'Name':'Liu','Age':18,'Class':1}\n",
    "print(str(dict_))\n",
    "print(dict_.items())"
   ],
   "id": "a014185f7d9184df",
   "outputs": [
    {
     "name": "stdout",
     "output_type": "stream",
     "text": [
      "{'Name': 'Liu', 'Age': 18, 'Class': 1}\n",
      "dict_items([('Name', 'Liu'), ('Age', 18), ('Class', 1)])\n"
     ]
    }
   ],
   "execution_count": 45
  },
  {
   "metadata": {},
   "cell_type": "markdown",
   "source": [
    "# 集合（Set）  \n",
    "## 性质  \n",
    "1.集合中的元素**不会**重复  \n",
    "2.集合中的元素**无法**更改  \n",
    "3.集合**无法**使用`index.()`索引和`[]`切片(Set没有给定的顺序)  \n",
    "4.可以通过循环**遍历**获得值"
   ],
   "id": "6db3d752dbcbde51"
  },
  {
   "metadata": {},
   "cell_type": "markdown",
   "source": [
    "## 添加与移除元素\n",
    "\n",
    "通过`set.add(value)`来添加一个元素  \n",
    "通过`set.discard(value)`来删除一个元素"
   ],
   "id": "f362aa160be572d"
  },
  {
   "metadata": {
    "ExecuteTime": {
     "end_time": "2024-11-24T12:53:37.004023Z",
     "start_time": "2024-11-24T12:53:37.000417Z"
    }
   },
   "cell_type": "code",
   "source": [
    "Days= {\"Mon\",\"Tue\",\"Wed\",\"Wed\",\"Thu\",\"Fri\",\"Sat\",\"Sun\"}\n",
    "print(type(Days))\n",
    "print(Days)\n",
    "for Day in Days:\n",
    "    print(Day)\n",
    "Days.add(1)\n",
    "Days.add(2)\n",
    "Days.discard(2)\n",
    "print(Days)\n"
   ],
   "id": "ec0ccaded2e136bb",
   "outputs": [
    {
     "name": "stdout",
     "output_type": "stream",
     "text": [
      "<class 'set'>\n",
      "{'Sun', 'Thu', 'Fri', 'Mon', 'Wed', 'Sat', 'Tue'}\n",
      "Sun\n",
      "Thu\n",
      "Fri\n",
      "Mon\n",
      "Wed\n",
      "Sat\n",
      "Tue\n",
      "{1, 'Fri', 'Sat', 'Sun', 'Mon', 'Thu', 'Wed', 'Tue'}\n"
     ]
    }
   ],
   "execution_count": 46
  },
  {
   "metadata": {},
   "cell_type": "markdown",
   "source": [
    "## 集合的运算\n",
    "通过`|`取两个集合的并集  \n",
    "通过`&`取两个集合的交集  \n",
    "通过`-`取被减集合与两个集合交集的补集  "
   ],
   "id": "39a213486f30da32"
  },
  {
   "metadata": {
    "ExecuteTime": {
     "end_time": "2024-11-24T12:53:37.038201Z",
     "start_time": "2024-11-24T12:53:37.035191Z"
    }
   },
   "cell_type": "code",
   "source": [
    "num1={1,2,3,4,5}\n",
    "num2={5,6,7,8,9}\n",
    "print(num1|num2)\n",
    "print(num1&num2)\n",
    "print(num1-num2,num2-num1)"
   ],
   "id": "84f0452b5ecf7fbb",
   "outputs": [
    {
     "name": "stdout",
     "output_type": "stream",
     "text": [
      "{1, 2, 3, 4, 5, 6, 7, 8, 9}\n",
      "{5}\n",
      "{1, 2, 3, 4} {8, 9, 6, 7}\n"
     ]
    }
   ],
   "execution_count": 47
  },
  {
   "metadata": {},
   "cell_type": "markdown",
   "source": [
    "## 判断子集\n",
    "通过`<=`与`>=`来输出一个Boolean"
   ],
   "id": "63476a1fc285af14"
  },
  {
   "metadata": {
    "ExecuteTime": {
     "end_time": "2024-11-24T12:53:37.142364Z",
     "start_time": "2024-11-24T12:53:37.139495Z"
    }
   },
   "cell_type": "code",
   "source": [
    "print(num1<=num2)\n",
    "print((num1&num2)<=num2)"
   ],
   "id": "25ac55a2fd057c93",
   "outputs": [
    {
     "name": "stdout",
     "output_type": "stream",
     "text": [
      "False\n",
      "True\n"
     ]
    }
   ],
   "execution_count": 48
  }
 ],
 "metadata": {
  "kernelspec": {
   "display_name": "Python 3",
   "language": "python",
   "name": "python3"
  },
  "language_info": {
   "codemirror_mode": {
    "name": "ipython",
    "version": 2
   },
   "file_extension": ".py",
   "mimetype": "text/x-python",
   "name": "python",
   "nbconvert_exporter": "python",
   "pygments_lexer": "ipython2",
   "version": "2.7.6"
  }
 },
 "nbformat": 4,
 "nbformat_minor": 5
}
