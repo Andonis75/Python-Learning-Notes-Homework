{
 "cells": [
  {
   "cell_type": "markdown",
   "metadata": {},
   "source": [
    "#### 1. Write a Python program to multiplies all the items in a list. "
   ]
  },
  {
   "cell_type": "code",
   "execution_count": 2,
   "metadata": {},
   "outputs": [
    {
     "name": "stdout",
     "output_type": "stream",
     "text": [
      "3628800\n"
     ]
    }
   ],
   "source": [
    "ans=1\n",
    "list_=[1,2,3,4,5,6,7,8,9,10]\n",
    "for num in list_:\n",
    "    ans*=num\n",
    "print(ans)"
   ]
  },
  {
   "cell_type": "markdown",
   "metadata": {},
   "source": [
    "#### 2. Write a Python program to count the number of strings where the string length is 2 or more and the first and last character are same from a given list of strings. \n",
    "##### 2. 编写一个 Python 程序，从给定的字符串列表中计算字符串长度为 2 或以上且首尾字符相同的字符串的数量。"
   ]
  },
  {
   "cell_type": "code",
   "execution_count": 30,
   "metadata": {},
   "outputs": [
    {
     "name": "stdout",
     "output_type": "stream",
     "text": [
      "2\n"
     ]
    }
   ],
   "source": [
    "list_=['Good','GG','CATC']\n",
    "count=0\n",
    "for string in list_:\n",
    "    if len(string)>=2 and string[0]==string[-1]:\n",
    "        count+=1\n",
    "print(count)"
   ]
  },
  {
   "cell_type": "markdown",
   "metadata": {},
   "source": [
    "#### 3. Write a Python program to create a tuple with different data types. \n",
    "##### 3. 编写一个 Python 程序，用不同的数据类型创建一个元组。"
   ]
  },
  {
   "cell_type": "code",
   "execution_count": 7,
   "metadata": {},
   "outputs": [
    {
     "name": "stdout",
     "output_type": "stream",
     "text": [
      "<class 'int'>\n",
      "<class 'str'>\n",
      "<class 'list'>\n",
      "<class 'set'>\n",
      "<class 'dict'>\n",
      "(0, 'a', [1, 2], {2, 3}, {'name': 'TwentyThree'})\n"
     ]
    }
   ],
   "source": [
    "tup=tuple([0,\"a\",list([1,2]),set([2,3]),dict({\"name\":\"TwentyThree\"})])\n",
    "for element in tup:\n",
    "    print(type(element))\n",
    "print(tup)"
   ]
  },
  {
   "cell_type": "markdown",
   "metadata": {},
   "source": [
    "#### 4. Write a Python program to convert a list to a tuple "
   ]
  },
  {
   "cell_type": "code",
   "execution_count": 8,
   "metadata": {},
   "outputs": [
    {
     "name": "stdout",
     "output_type": "stream",
     "text": [
      "<class 'list'>\n",
      "<class 'tuple'>\n"
     ]
    }
   ],
   "source": [
    "list_=[1,2,3,4]\n",
    "print(type(list_))\n",
    "tup=tuple(list_)\n",
    "print(type(tup))"
   ]
  },
  {
   "cell_type": "markdown",
   "metadata": {},
   "source": [
    "#### 5. Write a Python script to concatenate following dictionaries to create a new one. \n",
    "##### 5. 编写一个 Python 脚本，将下列字典连接起来，创建一个新的字典。\n",
    "\n",
    "Sample Dictionary : \n",
    "```\n",
    "dic1={1:10, 2:20} \n",
    "dic2={3:30, 4:40} \n",
    "dic3={5:50, 6:60} \n",
    "```\n",
    "\n",
    "Expected Result : \n",
    "```\n",
    "{1: 10, 2: 20, 3: 30, 4: 40, 5: 50, 6: 60} \n",
    "```\n"
   ]
  },
  {
   "cell_type": "code",
   "execution_count": 14,
   "metadata": {},
   "outputs": [
    {
     "name": "stdout",
     "output_type": "stream",
     "text": [
      "{1: 10, 2: 20, 3: 30, 4: 40, 5: 50, 6: 60}\n"
     ]
    }
   ],
   "source": [
    "dic1={1:10, 2:20} \n",
    "dic2={3:30, 4:40} \n",
    "dic3={5:50, 6:60} \n",
    "dic=dict(dic1)\n",
    "dic.update(dic2)\n",
    "dic.update(dic3)\n",
    "print(dic)"
   ]
  },
  {
   "cell_type": "markdown",
   "metadata": {},
   "source": [
    "#### 6. Write a Python script to generate and print a dictionary that contains a number (between 1 and n) in the form (x, x*x). \n",
    "\n",
    "Sample Input :  \n",
    "```\n",
    "n = 5 \n",
    "```\n",
    "Expected Output : \n",
    "```\n",
    "{1: 1, 2: 4, 3: 9, 4: 16, 5: 25} \n",
    "```"
   ]
  },
  {
   "cell_type": "code",
   "execution_count": 25,
   "metadata": {},
   "outputs": [
    {
     "name": "stdout",
     "output_type": "stream",
     "text": [
      "{0: 0, 1: 1, 2: 4, 3: 9, 4: 16, 5: 25}\n"
     ]
    }
   ],
   "source": [
    "n = 5\n",
    "dic=dict()\n",
    "for i in range(n+1):\n",
    "    d0={i:i*i}\n",
    "    dic.update(d0)\n",
    "print(dic)"
   ]
  },
  {
   "cell_type": "markdown",
   "metadata": {},
   "source": [
    "#### 7. Write a Python program to remove an item from a set if it is present in the set."
   ]
  },
  {
   "cell_type": "code",
   "execution_count": 28,
   "metadata": {},
   "outputs": [
    {
     "name": "stdout",
     "output_type": "stream",
     "text": [
      "{'b'}\n"
     ]
    }
   ],
   "source": [
    "set_={\"a\",\"b\"}\n",
    "list_set_=list(set_)\n",
    "set_.discard(list_set_[-1])\n",
    "print(set_)"
   ]
  }
 ],
 "metadata": {
  "kernelspec": {
   "display_name": "Python 3",
   "language": "python",
   "name": "python3"
  },
  "language_info": {
   "codemirror_mode": {
    "name": "ipython",
    "version": 3
   },
   "file_extension": ".py",
   "mimetype": "text/x-python",
   "name": "python",
   "nbconvert_exporter": "python",
   "pygments_lexer": "ipython3",
   "version": "3.12.4"
  }
 },
 "nbformat": 4,
 "nbformat_minor": 2
}
