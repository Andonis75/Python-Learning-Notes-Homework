{
 "cells": [
  {
   "cell_type": "markdown",
   "id": "a3e07e28",
   "metadata": {},
   "source": [
    "# Python语言介绍"
   ]
  },
  {
   "cell_type": "code",
   "execution_count": 1,
   "id": "initial_id",
   "metadata": {
    "ExecuteTime": {
     "end_time": "2024-10-12T01:17:18.698018Z",
     "start_time": "2024-10-12T01:17:18.693486Z"
    },
    "collapsed": true
   },
   "outputs": [
    {
     "name": "stdout",
     "output_type": "stream",
     "text": [
      "5\n"
     ]
    }
   ],
   "source": [
    "#Input\n",
    "a = 2\n",
    "b = 3\n",
    "\n",
    "#Calculation\n",
    "c = a+b\n",
    "\n",
    "#Result Display\n",
    "print(c)"
   ]
  },
  {
   "cell_type": "code",
   "execution_count": 2,
   "id": "e4062d96ffd6dd27",
   "metadata": {
    "ExecuteTime": {
     "end_time": "2024-10-12T01:17:18.775934Z",
     "start_time": "2024-10-12T01:17:18.772629Z"
    }
   },
   "outputs": [
    {
     "name": "stdout",
     "output_type": "stream",
     "text": [
      "Welcome to Python Programming\n"
     ]
    }
   ],
   "source": [
    "print(\"Welcome to Python Programming\")"
   ]
  },
  {
   "cell_type": "code",
   "execution_count": 3,
   "id": "97f2198c01c06cf6",
   "metadata": {
    "ExecuteTime": {
     "end_time": "2024-10-12T01:30:21.444945Z",
     "start_time": "2024-10-12T01:30:21.441726Z"
    }
   },
   "outputs": [
    {
     "name": "stdout",
     "output_type": "stream",
     "text": [
      "<class 'int'>\n"
     ]
    }
   ],
   "source": [
    "a = 5\n",
    "print(type(a))"
   ]
  },
  {
   "cell_type": "code",
   "execution_count": 10,
   "id": "81635bf5cb044248",
   "metadata": {
    "ExecuteTime": {
     "end_time": "2024-10-12T01:32:43.824804Z",
     "start_time": "2024-10-12T01:32:43.821120Z"
    }
   },
   "outputs": [
    {
     "name": "stdout",
     "output_type": "stream",
     "text": [
      "5.001\n",
      "<class 'float'>\n",
      "(3+3j)\n"
     ]
    }
   ],
   "source": [
    "a= 5.001\n",
    "b=float(a)\n",
    "print(b)\n",
    "print(type(b))\n",
    "\n",
    "#j是虚数单位\n",
    "c= 3 + 3j\n",
    "print(type(c))\n",
    "\n",
    "d = \"Liu\" #变量名只能用字母/下划线开头\n",
    "print(type(d)) \n",
    "\n",
    "_d = 3 #变量名不能用数字开头，可以在"
   ]
  },
  {
   "cell_type": "code",
   "execution_count": 2,
   "id": "5ae721d5f213fd5",
   "metadata": {
    "ExecuteTime": {
     "end_time": "2024-10-14T00:09:51.931788Z",
     "start_time": "2024-10-14T00:09:51.928356Z"
    }
   },
   "outputs": [
    {
     "name": "stdout",
     "output_type": "stream",
     "text": [
      "['apple', 'pear', 'orange', 'banana']\n",
      "<class 'list'>\n",
      "apple\n"
     ]
    }
   ],
   "source": [
    "fruits = [\"apple\", \"pear\", \"orange\", \"banana\"]\n",
    "print(fruits)\n",
    "print(type(fruits))\n",
    "print(fruits[0])"
   ]
  },
  {
   "cell_type": "code",
   "execution_count": 3,
   "id": "223193a5183094c4",
   "metadata": {
    "ExecuteTime": {
     "end_time": "2024-10-14T00:12:37.633073Z",
     "start_time": "2024-10-14T00:12:37.628853Z"
    }
   },
   "outputs": [
    {
     "name": "stdout",
     "output_type": "stream",
     "text": [
      "(10, 20, 30, 40, 50, 60)\n",
      "<class 'tuple'>\n"
     ]
    }
   ],
   "source": [
    "number = (10, 20, 30, 40, 50, 60) #元组数据不可改变\n",
    "print(number)\n",
    "print(type(number))\n",
    "#number[0] = 22 如果强行修改会报错"
   ]
  },
  {
   "cell_type": "code",
   "execution_count": 6,
   "id": "9a94b7ead63cfc54",
   "metadata": {
    "ExecuteTime": {
     "end_time": "2024-10-14T00:18:42.799943Z",
     "start_time": "2024-10-14T00:18:42.796939Z"
    }
   },
   "outputs": [
    {
     "name": "stdout",
     "output_type": "stream",
     "text": [
      "[1, 2, 3, 4, 5, 6, 7, 8, 9, 10]\n",
      "range(1, 11)\n",
      "<class 'range'>\n"
     ]
    }
   ],
   "source": [
    "number_range = range(1,11)\n",
    "print(list(number_range))\n",
    "print(str(number_range)) #可以把函数形式转化为字符\n",
    "print(type(number_range))"
   ]
  },
  {
   "cell_type": "code",
   "execution_count": 7,
   "id": "48109727a28817d0",
   "metadata": {
    "ExecuteTime": {
     "end_time": "2024-10-14T00:19:29.414487Z",
     "start_time": "2024-10-14T00:19:29.411023Z"
    }
   },
   "outputs": [
    {
     "name": "stdout",
     "output_type": "stream",
     "text": [
      "<class 'int'>\n",
      "<class 'list'>\n",
      "10.0\n"
     ]
    }
   ],
   "source": [
    "a = 10\n",
    "print(type(a))\n",
    "b = list(str(a))\n",
    "print(type(b))\n",
    "c = float(a)\n",
    "print(c)"
   ]
  },
  {
   "cell_type": "code",
   "execution_count": 10,
   "id": "ddb1aec05052e755",
   "metadata": {
    "ExecuteTime": {
     "end_time": "2024-10-14T00:31:09.125187Z",
     "start_time": "2024-10-14T00:31:09.122185Z"
    }
   },
   "outputs": [
    {
     "name": "stdout",
     "output_type": "stream",
     "text": [
      "{'name': 'Liu', 'age': 20, 'city': 'San Francisco'}\n",
      "Liu\n",
      "{'name': 'Liu-is', 'age': 20, 'city': 'San Francisco'}\n"
     ]
    }
   ],
   "source": [
    "# Dictionary (Mappings) 字典映射\n",
    "person = dict(name=\"Liu\", age=20, city=\"San Francisco\") #Tab补全的另外一种表示方法,将dict文字转换为dict构造函数\n",
    "print(person)           # 输出整个字典\n",
    "print(person[\"name\"])   # 输出字典的一个特定数据\n",
    "'''\n",
    "person = {                  #教授的方法\n",
    "    \"name\": \"Liu\",\n",
    "    \"age\": 20,\n",
    "    \"city\": \"San Francisco\"\n",
    "}\n",
    "'''\n",
    "person[\"name\"] = \"Liu-is\"\n",
    "print(person)"
   ]
  },
  {
   "cell_type": "code",
   "execution_count": 11,
   "id": "e9c635d6834facdb",
   "metadata": {
    "ExecuteTime": {
     "end_time": "2024-10-14T00:32:37.547263Z",
     "start_time": "2024-10-14T00:32:37.543259Z"
    }
   },
   "outputs": [
    {
     "name": "stdout",
     "output_type": "stream",
     "text": [
      "False\n",
      "False\n"
     ]
    }
   ],
   "source": [
    "#布尔类型\n",
    "x = 5\n",
    "y = 10\n",
    "is_greater = x > y\n",
    "print(is_greater)\n",
    "\n",
    "is_equal = x == y\n",
    "print(is_equal)"
   ]
  },
  {
   "cell_type": "code",
   "execution_count": 12,
   "id": "4e0a11908407a271",
   "metadata": {
    "ExecuteTime": {
     "end_time": "2024-10-14T00:36:52.741421Z",
     "start_time": "2024-10-14T00:36:52.737835Z"
    }
   },
   "outputs": [
    {
     "name": "stdout",
     "output_type": "stream",
     "text": [
      "{'orange', 'apple', 'pear', 'banana'}\n",
      "{'orange', 'apple', 'pear', 'banana'}\n",
      "{'pear', 'apple', 'lemon', 'orange', 'banana'}\n",
      "{'pear', 'apple', 'lemon', 'orange'}\n"
     ]
    }
   ],
   "source": [
    "#集合\n",
    "fruits_1 = {\"apple\", \"pear\", \"orange\", \"barnana\"}\n",
    "print(fruits_1)\n",
    "fruits_1 = {\"apple\", \"pear\", \"orange\", \"banana\",\"banana\"}\n",
    "print(fruits_1) #会自动合并重复元素\n",
    "fruits_1.add(\"lemon\")   #添加元素\n",
    "print(fruits_1)\n",
    "fruits_1.remove(\"banana\")   #删除元素\n",
    "print(fruits_1)"
   ]
  }
 ],
 "metadata": {
  "kernelspec": {
   "display_name": "Python 3",
   "language": "python",
   "name": "python3"
  },
  "language_info": {
   "codemirror_mode": {
    "name": "ipython",
    "version": 2
   },
   "file_extension": ".py",
   "mimetype": "text/x-python",
   "name": "python",
   "nbconvert_exporter": "python",
   "pygments_lexer": "ipython2",
   "version": "2.7.6"
  }
 },
 "nbformat": 4,
 "nbformat_minor": 5
}
