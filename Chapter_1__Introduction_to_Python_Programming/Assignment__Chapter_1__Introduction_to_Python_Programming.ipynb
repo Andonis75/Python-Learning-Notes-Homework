{
 "cells": [
  {
   "cell_type": "markdown",
   "id": "6fd93a6d",
   "metadata": {},
   "source": [
    "##### Declare a value x and assign it the value 10. Print the value of X"
   ]
  },
  {
   "cell_type": "code",
   "execution_count": 1,
   "id": "851f7684",
   "metadata": {},
   "outputs": [
    {
     "name": "stdout",
     "output_type": "stream",
     "text": [
      "10\n"
     ]
    }
   ],
   "source": [
    "# Declare a value x\n",
    "x = 10\n",
    "# Print the value of X\n",
    "print(x)"
   ]
  },
  {
   "cell_type": "markdown",
   "id": "eb1dca98",
   "metadata": {},
   "source": [
    "##### Declare two variable a and b , assign then the values 5 and 3 and swap their values without using a third variable"
   ]
  },
  {
   "cell_type": "code",
   "execution_count": 2,
   "id": "31771022",
   "metadata": {},
   "outputs": [
    {
     "name": "stdout",
     "output_type": "stream",
     "text": [
      "5\n",
      "3\n",
      "3\n",
      "5\n"
     ]
    }
   ],
   "source": [
    "# Declare two variable a and b\n",
    "a = 5\n",
    "b = 3\n",
    "print(a)\n",
    "print(b)\n",
    "# swap their values\n",
    "a, b = b, a\n",
    "print(a)\n",
    "print(b)"
   ]
  },
  {
   "cell_type": "markdown",
   "id": "d6716add",
   "metadata": {},
   "source": [
    "##### Assign the values of 25. 5 to variable priceand print it's type"
   ]
  },
  {
   "cell_type": "code",
   "execution_count": 3,
   "id": "f8fa8481",
   "metadata": {},
   "outputs": [
    {
     "name": "stdout",
     "output_type": "stream",
     "text": [
      "<class 'float'>\n"
     ]
    }
   ],
   "source": [
    "# Assign the values of 25. 5 to variable\n",
    "price = 25.5\n",
    "# print it's type\n",
    "print(type(price))"
   ]
  },
  {
   "cell_type": "markdown",
   "id": "aee84362",
   "metadata": {},
   "source": [
    "##### Create a variable name and assign your full name to it, Then printa greeting message that says : \"Hello , [Your name]!\""
   ]
  },
  {
   "cell_type": "code",
   "execution_count": 4,
   "id": "2b3fe4f4",
   "metadata": {},
   "outputs": [
    {
     "name": "stdout",
     "output_type": "stream",
     "text": [
      "Hello, LiuShunyao\n"
     ]
    }
   ],
   "source": [
    "# Create a variable name\n",
    "name = \"LiuShunyao\"\n",
    "# print a greeting message\n",
    "print(\"Hello,\", name)"
   ]
  },
  {
   "cell_type": "markdown",
   "id": "752f020f",
   "metadata": {},
   "source": [
    "##### Assign a string to a variable sentence split into a list of words and print the list"
   ]
  },
  {
   "cell_type": "code",
   "execution_count": 5,
   "id": "eeba34ad",
   "metadata": {},
   "outputs": [
    {
     "name": "stdout",
     "output_type": "stream",
     "text": [
      "['The', 'quick', 'brown', 'fox', 'jumps', 'over', 'a', 'lazy', 'dog']\n"
     ]
    }
   ],
   "source": [
    "# Assign a string to a variable sentence\n",
    "sentence = \"The quick brown fox jumps over a lazy dog\"\n",
    "# split into a list of words \n",
    "sentence = sentence.split(' ')\n",
    "# print the list\n",
    "print(sentence)"
   ]
  },
  {
   "cell_type": "markdown",
   "id": "4d0f2568",
   "metadata": {},
   "source": [
    "# DataType "
   ]
  },
  {
   "cell_type": "markdown",
   "id": "c53746ba",
   "metadata": {},
   "source": [
    "##### Create a variable num with the value 100, and check if it is of type integer."
   ]
  },
  {
   "cell_type": "code",
   "execution_count": 6,
   "id": "4e60a3e4",
   "metadata": {},
   "outputs": [
    {
     "name": "stdout",
     "output_type": "stream",
     "text": [
      "True\n"
     ]
    }
   ],
   "source": [
    "# Create a variable num\n",
    "num = 100\n",
    "# Check if it is of type integer\n",
    "Is_Type_Int = type(num) == int\n",
    "print(Is_Type_Int)"
   ]
  },
  {
   "cell_type": "markdown",
   "id": "78a85140",
   "metadata": {},
   "source": [
    "##### Convert the integer 100 to a string and concatenate it with another string \"Apples\".Print the result."
   ]
  },
  {
   "cell_type": "code",
   "execution_count": 7,
   "id": "71f88d4f",
   "metadata": {},
   "outputs": [
    {
     "name": "stdout",
     "output_type": "stream",
     "text": [
      "100Apples\n"
     ]
    }
   ],
   "source": [
    "# Convert the integer 100 to a string\n",
    "num = 100\n",
    "num = str(num)\n",
    "# concatenate it with another string \"Apples\"\n",
    "result = num + \"Apples\"\n",
    "# Print the result.\n",
    "print(result)"
   ]
  },
  {
   "cell_type": "markdown",
   "id": "29faeccf",
   "metadata": {},
   "source": [
    "##### declare a tuple with teh value (10, 20, 30, 40). try to change the first value and explain the error"
   ]
  },
  {
   "cell_type": "code",
   "execution_count": 8,
   "id": "cac688ea",
   "metadata": {},
   "outputs": [
    {
     "name": "stdout",
     "output_type": "stream",
     "text": [
      "'tuple' object does not support item assignment\n"
     ]
    }
   ],
   "source": [
    "# declare a tuple\n",
    "tup = (10, 20, 30, 40)\n",
    "# try to change the first value\n",
    "try:\n",
    "    tup[0] = 11\n",
    "# explain the error\n",
    "except Exception as error:\n",
    "    print(error)"
   ]
  },
  {
   "cell_type": "markdown",
   "id": "a4ea971f",
   "metadata": {},
   "source": [
    "##### Create a dictionary with keys , name and age and assign appropriate values to them. Print the value associated with age key "
   ]
  },
  {
   "cell_type": "code",
   "execution_count": 9,
   "id": "a5b3079d",
   "metadata": {},
   "outputs": [
    {
     "name": "stdout",
     "output_type": "stream",
     "text": [
      "18\n"
     ]
    }
   ],
   "source": [
    "# Create a dictionary with keys\n",
    "dictionary = dict(name=\"Liu\",age=\"18\")\n",
    "#Print the value associated with age key\n",
    "print(dictionary[\"age\"])"
   ]
  },
  {
   "cell_type": "markdown",
   "id": "d0ae173a",
   "metadata": {},
   "source": [
    "##### Create a variable x with a value of 25.convert this value into a float, a string and a boolean and print the type of each conversion "
   ]
  },
  {
   "cell_type": "code",
   "execution_count": 10,
   "id": "ba74f609",
   "metadata": {},
   "outputs": [
    {
     "name": "stdout",
     "output_type": "stream",
     "text": [
      "<class 'float'>\n",
      "<class 'str'>\n",
      "<class 'bool'>\n"
     ]
    }
   ],
   "source": [
    "# Create a variable x with a value of 25.\n",
    "x = 25\n",
    "#convert this value\n",
    "x_float = float(x)\n",
    "x_string = str(x)\n",
    "x_boolean = bool(x)\n",
    "#print the type of each conversion \n",
    "print(type(x_float))\n",
    "print(type(x_string))\n",
    "print(type(x_boolean))"
   ]
  },
  {
   "cell_type": "code",
   "execution_count": null,
   "id": "adcbd7b3",
   "metadata": {},
   "outputs": [],
   "source": []
  },
  {
   "cell_type": "code",
   "execution_count": null,
   "id": "ca3be43f",
   "metadata": {},
   "outputs": [],
   "source": []
  },
  {
   "cell_type": "code",
   "execution_count": null,
   "id": "b742048b",
   "metadata": {},
   "outputs": [],
   "source": []
  },
  {
   "cell_type": "code",
   "execution_count": null,
   "id": "a67d9c7a",
   "metadata": {},
   "outputs": [],
   "source": []
  }
 ],
 "metadata": {
  "kernelspec": {
   "display_name": "Python 3",
   "language": "python",
   "name": "python3"
  },
  "language_info": {
   "codemirror_mode": {
    "name": "ipython",
    "version": 3
   },
   "file_extension": ".py",
   "mimetype": "text/x-python",
   "name": "python",
   "nbconvert_exporter": "python",
   "pygments_lexer": "ipython3",
   "version": "3.12.4"
  }
 },
 "nbformat": 4,
 "nbformat_minor": 5
}
