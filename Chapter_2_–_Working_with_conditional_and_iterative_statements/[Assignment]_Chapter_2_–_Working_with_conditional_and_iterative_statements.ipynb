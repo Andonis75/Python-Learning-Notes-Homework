{
 "cells": [
  {
   "cell_type": "markdown",
   "id": "c8f2e911",
   "metadata": {},
   "source": [
    "# Chapter 2 Assignment 1"
   ]
  },
  {
   "cell_type": "markdown",
   "id": "002c9a29",
   "metadata": {},
   "source": [
    "## If else"
   ]
  },
  {
   "cell_type": "markdown",
   "id": "ad08d556",
   "metadata": {},
   "source": [
    "1. Write a program that checks if a given date (day, month , year)is a valid date, according to a leap year."
   ]
  },
  {
   "cell_type": "code",
   "execution_count": 1,
   "id": "4c600533",
   "metadata": {},
   "outputs": [
    {
     "name": "stdout",
     "output_type": "stream",
     "text": [
      "valid date!\n"
     ]
    }
   ],
   "source": [
    "date=\"2024-03-2\"\n",
    "M_D=[(\"01\",\"31\"),(\"02\",\"29\"),(\"03\",\"31\"),(\"04\",\"30\"),(\"05\",\"31\"),(\"06\",\"30\"),(\"07\",\"31\"),(\"08\",\"31\"),(\"09\",\"30\"),(\"10\",\"31\"),(\"11\",\"30\"),(\"12\",\"31\")]\n",
    "#根据给定日期分割数据\n",
    "YYYY,MM,DD=date.split(\"-\")\n",
    "#当公历年份不是整百数时，只看年份数的末两位数，是不是4的倍数，如果年份数末两位是4的倍数，这一年就是闰年。当公历年份是整百数时，只看年份数的千位与百位这两位数，如果这两位数是4的倍数，这一年就是闰年，反之，就是平年。\n",
    "if (int(YYYY)%100 != 0 and int(YYYY[2:4])%4 == 0) or (int(YYYY)%100 == 0 and int(YYYY[0:2])%4 == 0):\n",
    "    #检测数据是否一直不合格\n",
    "    count=0\n",
    "    for i in range(len(M_D)):\n",
    "        #检测月份是否正常\n",
    "        if int(MM)>12:\n",
    "            print(\"invalid date!\")\n",
    "        #检测日期是否与月份对应\n",
    "        elif MM==M_D[i][0] and DD<=M_D[i][1]:\n",
    "            print(\"valid date!\")\n",
    "            count+=1\n",
    "    if count==0:\n",
    "        print(\"invalid date!\")\n",
    "else:\n",
    "    print(\"The year is not leap year!\")"
   ]
  },
  {
   "cell_type": "markdown",
   "id": "9113d4e6",
   "metadata": {},
   "source": [
    "2. write a program to Find the largest of the four  given number.  "
   ]
  },
  {
   "cell_type": "code",
   "execution_count": 2,
   "id": "a1dffd35",
   "metadata": {},
   "outputs": [
    {
     "name": "stdout",
     "output_type": "stream",
     "text": [
      "4\n"
     ]
    }
   ],
   "source": [
    "#设定给定数据\n",
    "nums=[1,2,3,4]\n",
    "#输出最大的一个\n",
    "print(max(nums))"
   ]
  },
  {
   "cell_type": "markdown",
   "id": "dbd3d199",
   "metadata": {},
   "source": [
    "3. Write a program that check if a given number (sum of cubes of it's digit is equal to the number itself)"
   ]
  },
  {
   "cell_type": "code",
   "execution_count": null,
   "id": "b90db982",
   "metadata": {},
   "outputs": [
    {
     "name": "stdout",
     "output_type": "stream",
     "text": [
      "The sum of the cubes of the digits of 19 isn't equal to the number itself.\n"
     ]
    }
   ],
   "source": [
    "num=19\n",
    "str_num=str(num)\n",
    "list_nums=[]\n",
    "#创建一个函数，处理后续列表\n",
    "def cube(x):\n",
    "    return(int(x)**3)\n",
    "#将每一数位加入list_nums\n",
    "for i in range(len(str(num))):\n",
    "    list_nums.append(str_num[i])\n",
    "#将每一数位乘方，获得一个新的列表\n",
    "int_list_cube_nums=list(map(cube,list_nums))\n",
    "#列表相加比对\n",
    "if sum(int_list_cube_nums)==num:\n",
    "    print(f\"The sum of the cubes of the digits of {num} is equal to the number itself. \")\n",
    "else:\n",
    "    print(f\"The sum of the cubes of the digits of {num} isn't equal to the number itself.\")"
   ]
  },
  {
   "cell_type": "markdown",
   "id": "ec25eca9",
   "metadata": {},
   "source": [
    "4. Write a program that takes two number and an operator (+ , -, *, /) as input and peforms the specified operation. Handle division by zero errors gracefully. "
   ]
  },
  {
   "cell_type": "code",
   "execution_count": 42,
   "id": "0996defe",
   "metadata": {},
   "outputs": [
    {
     "name": "stdout",
     "output_type": "stream",
     "text": [
      "10 + 20 = 30\n"
     ]
    }
   ],
   "source": [
    "#设定两个数字,nums[0]在运算符左边,nums[1]在运算符右边\n",
    "num1=int(input(\"请输入第一个数\\n\"))\n",
    "num2=int(input(\"请输入第二个数\\n\"))\n",
    "nums=[num1,num2]\n",
    "method=input(\"请输入运算符(+ , -, *, /)\\n\")\n",
    "#+\n",
    "if method==\"+\":\n",
    "    print(f\"{nums[0]} + {nums[1]} = {nums[0]+nums[1]}\")\n",
    "#-\n",
    "if method==\"-\":\n",
    "    print(f\"{nums[0]} - {nums[1]} = {nums[0]-nums[1]}\")\n",
    "#*\n",
    "if method==\"*\":\n",
    "    print(f\"{nums[0]} * {nums[1]} = {nums[0]*nums[1]}\")\n",
    "#/\n",
    "if method==\"/\":\n",
    "    if nums[1] != 0:\n",
    "        print(f\"{nums[0]} / {nums[1]} = {nums[0]/nums[1]}\")\n",
    "    else:\n",
    "        print(f\"{nums[1]} cannot be used as a divisor\")"
   ]
  },
  {
   "cell_type": "markdown",
   "id": "203acd36",
   "metadata": {},
   "source": [
    "5. Write a program that checks if a given email addresss is in a valid format (contains \"@\" and \".\")"
   ]
  },
  {
   "cell_type": "code",
   "execution_count": 2,
   "id": "17859716",
   "metadata": {},
   "outputs": [
    {
     "name": "stdout",
     "output_type": "stream",
     "text": [
      "1234@qq.com is in a valid format\n"
     ]
    }
   ],
   "source": [
    "email=\"1234@qq.com\"\n",
    "if \"@\" in email and \".\" in email:\n",
    "    print(f\"{email} is in a valid format\")\n",
    "else:\n",
    "    print(f\"{email} isn't in a valid format\")"
   ]
  },
  {
   "cell_type": "markdown",
   "id": "e8d6b4ac",
   "metadata": {},
   "source": [
    "6. Write a program that simulates a game of rock , paper , scissor and determine the winner. "
   ]
  },
  {
   "cell_type": "code",
   "execution_count": 8,
   "id": "5f6dd49d",
   "metadata": {},
   "outputs": [
    {
     "name": "stdout",
     "output_type": "stream",
     "text": [
      "You Lose!\n"
     ]
    }
   ],
   "source": [
    "#所有可能的选择\n",
    "choose=[\"R\",\"P\",\"S\"]\n",
    "win_choose=[\"P\",\"S\",\"R\"]\n",
    "#你做出的选择\n",
    "your_choose=input(\"请输入你的选择\\n\")\n",
    "#第二个人做出的选择\n",
    "other_choose=input(\"请输入对方的选择\\n\")\n",
    "if your_choose == other_choose:\n",
    "    #平局\n",
    "    print(\"A Draw\")\n",
    "#如果对方的选择等于自己的选择对应的win列表里的选择，就输了\n",
    "elif other_choose==win_choose[choose.index(your_choose)]:\n",
    "    print(\"You Lose!\")\n",
    "else:\n",
    "    print(\"You Win!\")"
   ]
  },
  {
   "cell_type": "markdown",
   "id": "7a763fa5",
   "metadata": {},
   "source": [
    "# while loop "
   ]
  },
  {
   "cell_type": "markdown",
   "id": "5195a678",
   "metadata": {},
   "source": [
    "7. Write a program that prints numbers from 1 to 10 using a while loop."
   ]
  },
  {
   "cell_type": "code",
   "execution_count": 4,
   "id": "b3ea433a",
   "metadata": {},
   "outputs": [
    {
     "name": "stdout",
     "output_type": "stream",
     "text": [
      "1\n",
      "2\n",
      "3\n",
      "4\n",
      "5\n",
      "6\n",
      "7\n",
      "8\n",
      "9\n",
      "10\n"
     ]
    }
   ],
   "source": [
    "i=0\n",
    "while i != 10:\n",
    "    i+=1\n",
    "    print(i)"
   ]
  },
  {
   "cell_type": "markdown",
   "id": "69bcbba6",
   "metadata": {},
   "source": [
    "8. Create a program that calculates the sum of all numbers from 1 to n, where n is provided by the user."
   ]
  },
  {
   "cell_type": "code",
   "execution_count": 5,
   "id": "7e2245f6",
   "metadata": {},
   "outputs": [
    {
     "name": "stdout",
     "output_type": "stream",
     "text": [
      "15\n"
     ]
    }
   ],
   "source": [
    "n=5\n",
    "i=0\n",
    "sum=0\n",
    "while i!=n:\n",
    "    i+=1\n",
    "    sum+=i\n",
    "print(sum)"
   ]
  },
  {
   "cell_type": "markdown",
   "id": "89e4339d",
   "metadata": {},
   "source": [
    "9. Write a program to find the factorial of a given number using a while loop."
   ]
  },
  {
   "cell_type": "code",
   "execution_count": 12,
   "id": "34bfde59",
   "metadata": {},
   "outputs": [
    {
     "name": "stdout",
     "output_type": "stream",
     "text": [
      "120\n"
     ]
    }
   ],
   "source": [
    "#给定数字\n",
    "n=5\n",
    "#零\n",
    "sum=1\n",
    "while n!=1:\n",
    "    sum*=n\n",
    "    n-=1\n",
    "print(sum)"
   ]
  },
  {
   "cell_type": "markdown",
   "id": "a02d02a7",
   "metadata": {},
   "source": [
    "10. Create a program that reverses the digits of a given number using a while loop."
   ]
  },
  {
   "cell_type": "code",
   "execution_count": 20,
   "id": "5a6c4cdf",
   "metadata": {},
   "outputs": [
    {
     "name": "stdout",
     "output_type": "stream",
     "text": [
      "987654321\n"
     ]
    }
   ],
   "source": [
    "num=123456789\n",
    "str_num=str(num)\n",
    "i=1\n",
    "rev_num=\"\"\n",
    "while i != len(str_num)+1:\n",
    "    rev_num+=str_num[-i]\n",
    "    i+=1\n",
    "print(rev_num)"
   ]
  },
  {
   "cell_type": "markdown",
   "id": "27311410",
   "metadata": {},
   "source": [
    "11. Write a program to print the Fibonacci sequence up to a given number n using a while loop."
   ]
  },
  {
   "cell_type": "code",
   "execution_count": 27,
   "id": "9ad49a5a",
   "metadata": {},
   "outputs": [
    {
     "name": "stdout",
     "output_type": "stream",
     "text": [
      "[1, 1, 2, 3, 5]\n"
     ]
    }
   ],
   "source": [
    "a=1\n",
    "b=1\n",
    "n=5\n",
    "list=[a,b]\n",
    "while i !=n:\n",
    "    list.append(a+b)\n",
    "    if a+b>=n:\n",
    "        break\n",
    "    a=list[-2]\n",
    "    b=list[-1]\n",
    "print(f\"{list}\")\n"
   ]
  },
  {
   "cell_type": "markdown",
   "id": "d829d6e5",
   "metadata": {},
   "source": [
    "12. Write a program that checks if a given number is a happy number (repeatedly replace the numberwith the sum of the squares of it's digit until it becomes 1 or loops endlessly. "
   ]
  },
  {
   "cell_type": "code",
   "execution_count": 9,
   "id": "bec519b7",
   "metadata": {},
   "outputs": [
    {
     "name": "stdout",
     "output_type": "stream",
     "text": [
      "3\n",
      "9\n",
      "39\n",
      "39\n",
      "81\n",
      "3981\n",
      "1\n",
      "1\n",
      "3981\n",
      "3 is a happy number\n"
     ]
    }
   ],
   "source": [
    "#给定一个数字\n",
    "num=3\n",
    "#数据处理\n",
    "str_num=str(num)\n",
    "while True:\n",
    "    #检测数字是否变为1\n",
    "    if int(str(num)[-1]) == 1:\n",
    "        break\n",
    "    else:\n",
    "       #检测数字是否无限循环\n",
    "       print(str_num[-len(str(int(str_num[-1])**2)):])\n",
    "       print(str(int(str_num[-1])**2))\n",
    "       if str_num[-len(str(int(str_num[-1])**2)):]==str(int(str_num[-1])**2):\n",
    "           print(str_num)\n",
    "           break\n",
    "       else:\n",
    "            str_num.rstrip(str(str_num)[-1])\n",
    "            str_num+=str(int(str(str_num)[-1])**2)\n",
    "            print(str_num)\n",
    "print(f\"{num} is a happy number\")"
   ]
  },
  {
   "cell_type": "markdown",
   "id": "995f5c32",
   "metadata": {},
   "source": [
    "# For loop "
   ]
  },
  {
   "cell_type": "markdown",
   "id": "884008ac",
   "metadata": {},
   "source": [
    "13. Write a program that prints all even numbers from 1 to 20 using a for loop."
   ]
  },
  {
   "cell_type": "code",
   "execution_count": 30,
   "id": "07c9ea92",
   "metadata": {},
   "outputs": [
    {
     "name": "stdout",
     "output_type": "stream",
     "text": [
      "2\n",
      "4\n",
      "6\n",
      "8\n",
      "10\n",
      "12\n",
      "14\n",
      "16\n",
      "18\n",
      "20\n"
     ]
    }
   ],
   "source": [
    "for i in range(2,21,2):\n",
    "    print(i)"
   ]
  },
  {
   "cell_type": "markdown",
   "id": "45b0c784",
   "metadata": {},
   "source": [
    "14. Create a program that calculates the sum of all elements in a given list using a for loop."
   ]
  },
  {
   "cell_type": "code",
   "execution_count": 33,
   "id": "97253dd7",
   "metadata": {},
   "outputs": [
    {
     "name": "stdout",
     "output_type": "stream",
     "text": [
      "45\n"
     ]
    }
   ],
   "source": [
    "list=[1,2,3,4,5,6,7,8,9]\n",
    "sum=0\n",
    "for i in range(len(list)):\n",
    "    sum+=list[i]\n",
    "print(sum)"
   ]
  },
  {
   "cell_type": "markdown",
   "id": "50361841",
   "metadata": {},
   "source": [
    "15. Write a program that counts the number of vowels in a given string using a for loop."
   ]
  },
  {
   "cell_type": "code",
   "execution_count": 34,
   "id": "91b9a7d8",
   "metadata": {},
   "outputs": [
    {
     "name": "stdout",
     "output_type": "stream",
     "text": [
      "11\n"
     ]
    }
   ],
   "source": [
    "string=\"The quick brown fox jumps over the lazy dog\"\n",
    "count=0\n",
    "for i in range(len(string)):\n",
    "    if string[i] in \"aeiou\":\n",
    "        count+=1\n",
    "print(count)"
   ]
  },
  {
   "cell_type": "markdown",
   "id": "bc62038d",
   "metadata": {},
   "source": [
    "16. Create a program that finds the largest number in a given list using a for loop."
   ]
  },
  {
   "cell_type": "code",
   "execution_count": 36,
   "id": "4f16d491",
   "metadata": {},
   "outputs": [
    {
     "name": "stdout",
     "output_type": "stream",
     "text": [
      "9 is the largest number in list\n"
     ]
    }
   ],
   "source": [
    "list=[1,2,3,4,5,6,7,8,9]\n",
    "for i in range(len(list)):\n",
    "    #骑驴找驴\n",
    "    if list[i]==max(list):\n",
    "        print(f\"{list[i]} is the largest number in list\")\n",
    "        break"
   ]
  },
  {
   "cell_type": "markdown",
   "id": "d7a123a8",
   "metadata": {},
   "source": [
    "17. Write a program that prints the multiplication table of a given number using a for loop."
   ]
  },
  {
   "cell_type": "code",
   "execution_count": 37,
   "id": "5ea6ebfa",
   "metadata": {},
   "outputs": [
    {
     "name": "stdout",
     "output_type": "stream",
     "text": [
      "1 * 1 = 1 1 * 2 = 2 1 * 3 = 3 1 * 4 = 4 1 * 5 = 5 1 * 6 = 6 1 * 7 = 7 1 * 8 = 8 1 * 9 = 9\n",
      "2 * 1 = 2 2 * 2 = 4 2 * 3 = 6 2 * 4 = 8 2 * 5 = 10 2 * 6 = 12 2 * 7 = 14 2 * 8 = 16 2 * 9 = 18\n",
      "3 * 1 = 3 3 * 2 = 6 3 * 3 = 9 3 * 4 = 12 3 * 5 = 15 3 * 6 = 18 3 * 7 = 21 3 * 8 = 24 3 * 9 = 27\n",
      "4 * 1 = 4 4 * 2 = 8 4 * 3 = 12 4 * 4 = 16 4 * 5 = 20 4 * 6 = 24 4 * 7 = 28 4 * 8 = 32 4 * 9 = 36\n",
      "5 * 1 = 5 5 * 2 = 10 5 * 3 = 15 5 * 4 = 20 5 * 5 = 25 5 * 6 = 30 5 * 7 = 35 5 * 8 = 40 5 * 9 = 45\n",
      "6 * 1 = 6 6 * 2 = 12 6 * 3 = 18 6 * 4 = 24 6 * 5 = 30 6 * 6 = 36 6 * 7 = 42 6 * 8 = 48 6 * 9 = 54\n",
      "7 * 1 = 7 7 * 2 = 14 7 * 3 = 21 7 * 4 = 28 7 * 5 = 35 7 * 6 = 42 7 * 7 = 49 7 * 8 = 56 7 * 9 = 63\n",
      "8 * 1 = 8 8 * 2 = 16 8 * 3 = 24 8 * 4 = 32 8 * 5 = 40 8 * 6 = 48 8 * 7 = 56 8 * 8 = 64 8 * 9 = 72\n",
      "9 * 1 = 9 9 * 2 = 18 9 * 3 = 27 9 * 4 = 36 9 * 5 = 45 9 * 6 = 54 9 * 7 = 63 9 * 8 = 72 9 * 9 = 81\n"
     ]
    }
   ],
   "source": [
    "for i in range(1,10):\n",
    "    for u in range(1,10):\n",
    "        if u<9:\n",
    "            print(f\"{i} * {u} = {i*u}\",end=\" \")\n",
    "        else:\n",
    "            #只是为了好看\n",
    "            print(f\"{i} * {u} = {i*u}\",end=\"\\n\")"
   ]
  },
  {
   "cell_type": "markdown",
   "id": "57782bdd",
   "metadata": {},
   "source": [
    "# Continue statement "
   ]
  },
  {
   "cell_type": "markdown",
   "id": "fa4a431b",
   "metadata": {},
   "source": [
    "18. Write a program to print all the odd numbers from 1 to 10. Use the continue statement to skip even numbers."
   ]
  },
  {
   "cell_type": "code",
   "execution_count": 38,
   "id": "00933d0b",
   "metadata": {},
   "outputs": [
    {
     "name": "stdout",
     "output_type": "stream",
     "text": [
      "0\n",
      "2\n",
      "4\n",
      "6\n",
      "8\n",
      "10\n"
     ]
    }
   ],
   "source": [
    "for i in range(11):\n",
    "    if i%2==0:\n",
    "        print(i)\n",
    "    else:\n",
    "        continue"
   ]
  },
  {
   "cell_type": "markdown",
   "id": "9393b3c2",
   "metadata": {},
   "source": [
    "19. Create a program that takes a list of names and prints each name unless it starts with the letter \"A\". Use continue to skip names starting with \"A\"."
   ]
  },
  {
   "cell_type": "code",
   "execution_count": 39,
   "id": "4c4f0d33",
   "metadata": {},
   "outputs": [
    {
     "name": "stdout",
     "output_type": "stream",
     "text": [
      "cliff\n",
      "bilibili\n"
     ]
    }
   ],
   "source": [
    "list=[\"Abandon\",\"aobama\",\"cliff\",\"bilibili\"]\n",
    "for i in range(len(list)):\n",
    "    if list[i][0]== \"A\" or list[i][0]== \"a\":\n",
    "        continue\n",
    "    else:\n",
    "        print(list[i])"
   ]
  },
  {
   "cell_type": "markdown",
   "id": "13a7e92f",
   "metadata": {},
   "source": [
    "20. Write a program to display all numbers from 1 to 50 except for multiples of 5. Use the continue statement to skip such numbers."
   ]
  },
  {
   "cell_type": "code",
   "execution_count": 41,
   "id": "bcd3fd73",
   "metadata": {},
   "outputs": [
    {
     "name": "stdout",
     "output_type": "stream",
     "text": [
      "1\n",
      "2\n",
      "3\n",
      "4\n",
      "6\n",
      "7\n",
      "8\n",
      "9\n",
      "11\n",
      "12\n",
      "13\n",
      "14\n",
      "16\n",
      "17\n",
      "18\n",
      "19\n",
      "21\n",
      "22\n",
      "23\n",
      "24\n",
      "26\n",
      "27\n",
      "28\n",
      "29\n",
      "31\n",
      "32\n",
      "33\n",
      "34\n",
      "36\n",
      "37\n",
      "38\n",
      "39\n",
      "41\n",
      "42\n",
      "43\n",
      "44\n",
      "46\n",
      "47\n",
      "48\n",
      "49\n"
     ]
    }
   ],
   "source": [
    "for i in range(51):\n",
    "    if i%5!=0:\n",
    "        print(i)\n",
    "    else:\n",
    "        continue"
   ]
  }
 ],
 "metadata": {
  "kernelspec": {
   "display_name": "Python 3",
   "language": "python",
   "name": "python3"
  },
  "language_info": {
   "codemirror_mode": {
    "name": "ipython",
    "version": 3
   },
   "file_extension": ".py",
   "mimetype": "text/x-python",
   "name": "python",
   "nbconvert_exporter": "python",
   "pygments_lexer": "ipython3",
   "version": "3.12.4"
  }
 },
 "nbformat": 4,
 "nbformat_minor": 5
}
