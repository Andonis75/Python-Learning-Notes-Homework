{
 "cells": [
  {
   "cell_type": "code",
   "id": "initial_id",
   "metadata": {
    "collapsed": true,
    "ExecuteTime": {
     "end_time": "2024-10-21T00:22:35.018100Z",
     "start_time": "2024-10-21T00:22:35.014714Z"
    }
   },
   "source": [
    "#比较运算符：==,!=,<,>,<=,>=\n",
    "x = 5\n",
    "y = 10\n",
    "#Check if x is equal to y\n",
    "result = x == y\n",
    "print(result)"
   ],
   "outputs": [
    {
     "name": "stdout",
     "output_type": "stream",
     "text": [
      "False\n"
     ]
    }
   ],
   "execution_count": 13
  },
  {
   "metadata": {
    "ExecuteTime": {
     "end_time": "2024-10-21T00:22:35.062988Z",
     "start_time": "2024-10-21T00:22:35.058290Z"
    }
   },
   "cell_type": "code",
   "source": [
    "#Check if x is not equal to y\n",
    "result2 = x != y\n",
    "print(result2)"
   ],
   "id": "97b37ecc784d7c1",
   "outputs": [
    {
     "name": "stdout",
     "output_type": "stream",
     "text": [
      "True\n"
     ]
    }
   ],
   "execution_count": 14
  },
  {
   "metadata": {
    "ExecuteTime": {
     "end_time": "2024-10-21T00:22:35.150669Z",
     "start_time": "2024-10-21T00:22:35.146821Z"
    }
   },
   "cell_type": "code",
   "source": [
    "#Check if x is less than y\n",
    "result3 = x < y\n",
    "print(result3)"
   ],
   "id": "2013541110bb36ea",
   "outputs": [
    {
     "name": "stdout",
     "output_type": "stream",
     "text": [
      "True\n"
     ]
    }
   ],
   "execution_count": 15
  },
  {
   "metadata": {
    "ExecuteTime": {
     "end_time": "2024-10-21T00:22:35.207669Z",
     "start_time": "2024-10-21T00:22:35.204107Z"
    }
   },
   "cell_type": "code",
   "source": [
    "#Check if x is greater than y\n",
    "result4 = x > y\n",
    "print(result4)"
   ],
   "id": "24adbf069a77c54b",
   "outputs": [
    {
     "name": "stdout",
     "output_type": "stream",
     "text": [
      "False\n"
     ]
    }
   ],
   "execution_count": 16
  },
  {
   "metadata": {
    "ExecuteTime": {
     "end_time": "2024-10-21T00:22:35.349941Z",
     "start_time": "2024-10-21T00:22:35.346596Z"
    }
   },
   "cell_type": "code",
   "source": [
    "# 逻辑运算符\n",
    "# and, or, not\n",
    "is_sunny = True\n",
    "is_warm = False\n",
    "# Check if it is either sunny and warm, 两者满足一个则为假\n",
    "result5 = is_sunny and is_warm\n",
    "print(result5)"
   ],
   "id": "c0202b850ea319f9",
   "outputs": [
    {
     "name": "stdout",
     "output_type": "stream",
     "text": [
      "False\n"
     ]
    }
   ],
   "execution_count": 17
  },
  {
   "metadata": {
    "ExecuteTime": {
     "end_time": "2024-10-21T00:22:35.461652Z",
     "start_time": "2024-10-21T00:22:35.458962Z"
    }
   },
   "cell_type": "code",
   "source": [
    "# Check if it is either sunny or warm, 二者满足一个则为真\n",
    "# F + F = F\n",
    "# F + T = T\n",
    "# T + F = T\n",
    "# T + T = T\n",
    "result6 = is_sunny or is_warm\n",
    "print(result6)"
   ],
   "id": "3f6be84237cc1fa0",
   "outputs": [
    {
     "name": "stdout",
     "output_type": "stream",
     "text": [
      "True\n"
     ]
    }
   ],
   "execution_count": 18
  },
  {
   "metadata": {
    "ExecuteTime": {
     "end_time": "2024-10-21T00:23:09.988569Z",
     "start_time": "2024-10-21T00:23:09.985605Z"
    }
   },
   "cell_type": "code",
   "source": [
    "# Negate the value of is_sunny\n",
    "# F → T\n",
    "# T → F\n",
    "result7 = not is_sunny\n",
    "print(result7)"
   ],
   "id": "de897923f8eda39e",
   "outputs": [
    {
     "name": "stdout",
     "output_type": "stream",
     "text": [
      "False\n"
     ]
    }
   ],
   "execution_count": 19
  },
  {
   "metadata": {
    "ExecuteTime": {
     "end_time": "2024-10-21T00:27:54.651333Z",
     "start_time": "2024-10-21T00:27:54.647899Z"
    }
   },
   "cell_type": "code",
   "source": [
    "temperature = 26\n",
    "is_raining = True\n",
    "# Check the temperature is between 25 and 30 degrees Celsius and it is not raining\n",
    "result8 = not is_raining and 25 <= temperature <= 30\n",
    "print(result8)"
   ],
   "id": "5f54ab80ed72a8a1",
   "outputs": [
    {
     "name": "stdout",
     "output_type": "stream",
     "text": [
      "False\n"
     ]
    }
   ],
   "execution_count": 20
  },
  {
   "metadata": {
    "ExecuteTime": {
     "end_time": "2024-10-21T00:43:56.742797Z",
     "start_time": "2024-10-21T00:43:56.739787Z"
    }
   },
   "cell_type": "code",
   "source": [
    "# Conditional Statement\n",
    "x = 4\n",
    "if x%2 == 0:\n",
    "    print(f\"{x} is even\")\n",
    "else:\n",
    "    print(f\"{x} is odd\")"
   ],
   "id": "af20152a73b16d41",
   "outputs": [
    {
     "name": "stdout",
     "output_type": "stream",
     "text": [
      "4 is even\n"
     ]
    }
   ],
   "execution_count": 22
  },
  {
   "metadata": {},
   "cell_type": "code",
   "outputs": [],
   "execution_count": null,
   "source": [
    "# Input the values\n",
    "num1 = 10\n",
    "num2 = 10\n",
    "# Do calculations, Give conditions\n",
    "if num1 < num2:\n",
    "    # Give the result\n",
    "    print(\"Inside if condition\")\n",
    "elif num1 == num2:\n",
    "    print(\"num1=num2\")\n",
    "else:\n",
    "    print(\"Outside else\")"
   ],
   "id": "4cc5dfe6e550373c"
  },
  {
   "metadata": {
    "ExecuteTime": {
     "end_time": "2024-10-21T01:13:17.314719Z",
     "start_time": "2024-10-21T01:13:17.311341Z"
    }
   },
   "cell_type": "code",
   "source": [
    "# Q1: Write a program that checks if a given number is positive or not\n",
    "number = 6\n",
    "if number > 0:\n",
    "    print(f\"{number} is positive\")"
   ],
   "id": "8189d5448ead3e5e",
   "outputs": [
    {
     "name": "stdout",
     "output_type": "stream",
     "text": [
      "6 is positive\n"
     ]
    }
   ],
   "execution_count": 1
  },
  {
   "metadata": {
    "ExecuteTime": {
     "end_time": "2024-10-21T01:35:49.085633Z",
     "start_time": "2024-10-21T01:35:49.081633Z"
    }
   },
   "cell_type": "code",
   "source": [
    "# Q2: Check a given character is a vowel\n",
    "char = \"A\"\n",
    "if char.lower() in \"aeiou\":\n",
    "    print(f\"{char} is a vowel\")\n",
    "else:\n",
    "    print(f\"{char} is not a vowel\")"
   ],
   "id": "2722f2c9e84edb4",
   "outputs": [
    {
     "name": "stdout",
     "output_type": "stream",
     "text": [
      "A is a vowel\n"
     ]
    }
   ],
   "execution_count": 9
  },
  {
   "metadata": {
    "ExecuteTime": {
     "end_time": "2024-10-21T01:37:21.298725Z",
     "start_time": "2024-10-21T01:37:21.295724Z"
    }
   },
   "cell_type": "code",
   "source": [
    "# Q3 checks if a given year is a leap year\n",
    "year = 2025\n",
    "if (year % 4 == 0 and year % 100 != 0) or (year % 400 == 0):\n",
    "    print(f\"{year} is a leap year\")\n",
    "else:\n",
    "    print(f\"{year} is not a leap year\")"
   ],
   "id": "a28ce036b303f37d",
   "outputs": [
    {
     "name": "stdout",
     "output_type": "stream",
     "text": [
      "2025 is not a leap year\n"
     ]
    }
   ],
   "execution_count": 10
  },
  {
   "metadata": {
    "ExecuteTime": {
     "end_time": "2024-10-21T01:38:03.476616Z",
     "start_time": "2024-10-21T01:38:03.473852Z"
    }
   },
   "cell_type": "code",
   "source": [
    "# Q4 takes two numbers prints which one is greater\n",
    "a = 10\n",
    "b = 15\n",
    "if a>b:\n",
    "    print(f\"{a} is greater than {b}\")\n",
    "elif a==b:\n",
    "    print(f\"{a} is equal to {b}\")\n",
    "else:\n",
    "    print(f\"{b} is greater than {a}\")"
   ],
   "id": "95510a797630750b",
   "outputs": [
    {
     "name": "stdout",
     "output_type": "stream",
     "text": [
      "15 is greater than 10\n"
     ]
    }
   ],
   "execution_count": 11
  },
  {
   "metadata": {
    "ExecuteTime": {
     "end_time": "2024-10-21T01:38:14.113432Z",
     "start_time": "2024-10-21T01:38:08.897734Z"
    }
   },
   "cell_type": "code",
   "source": [
    "# Q5 check if a given number is even or odd\n",
    "num = int(input(\"Enter a number: \"))\n",
    "if num%2 == 0:\n",
    "    print(f\"{num} is an even number\")\n",
    "else:\n",
    "    print(f\"{num} is an odd number\")"
   ],
   "id": "35690318e5eb1fd0",
   "outputs": [
    {
     "name": "stdout",
     "output_type": "stream",
     "text": [
      "6 is an even number\n"
     ]
    }
   ],
   "execution_count": 12
  },
  {
   "metadata": {
    "ExecuteTime": {
     "end_time": "2024-10-21T01:21:30.016207Z",
     "start_time": "2024-10-21T01:21:30.013025Z"
    }
   },
   "cell_type": "code",
   "source": [
    "# Q6 check if a given number is a palindrome(回文)\n",
    "text = \"radar\"\n",
    "if text == text[::-1]:\n",
    "    print(f\"{text} is a palindrome\")\n",
    "else:\n",
    "    print(f\"{text} is not a palindrome\")"
   ],
   "id": "248ace8a7dcb68bd",
   "outputs": [
    {
     "name": "stdout",
     "output_type": "stream",
     "text": [
      "radar is a palindrome\n"
     ]
    }
   ],
   "execution_count": 3
  },
  {
   "metadata": {},
   "cell_type": "code",
   "outputs": [],
   "execution_count": null,
   "source": [
    "# Q7 Grades correspond to scores\n",
    "score = 85\n",
    "if score>=90:\n",
    "    print(\"Grade A\")\n",
    "elif score>=80:\n",
    "    print(\"Grade B\")\n",
    "elif score>=70:\n",
    "    print(\"Grade C\")\n",
    "elif score>=60:\n",
    "    print(\"Grade D\")\n",
    "else:\n",
    "    print(\"Grade E\")"
   ],
   "id": "42947759653122b6"
  },
  {
   "metadata": {
    "ExecuteTime": {
     "end_time": "2024-10-21T01:32:33.378301Z",
     "start_time": "2024-10-21T01:32:33.373996Z"
    }
   },
   "cell_type": "code",
   "source": [
    "# Q8 Calculate Delta\n",
    "import cmath\n",
    "\n",
    "a = 24\n",
    "b = 32\n",
    "c = 48\n",
    "\n",
    "discriminant = b ** 2 - 4 * a * c\n",
    "if discriminant > 0:\n",
    "    root1=(-b + discriminant ** 0.5) / (2 * a)\n",
    "    root2=(-b - discriminant ** 0.5) / (2 * a)\n",
    "    print(f\"Roots are real and different: {root1}, {root2}\")\n",
    "elif discriminant == 0:\n",
    "    root = (-b + discriminant ** 0.5) / (2 * a)\n",
    "    print(f\"Roots are real and the same: {root}\")\n",
    "else:\n",
    "    root1 = (-b - discriminant ** 0.5) / (2 * a)\n",
    "    root2 = (-b + discriminant ** 0.5) / (2 * a)\n",
    "    print(f\"Roots are complex: {root1}, {root2}\")"
   ],
   "id": "34758e96bd0c07c5",
   "outputs": [
    {
     "name": "stdout",
     "output_type": "stream",
     "text": [
      "Roots are complex: (-0.6666666666666669-1.247219128924647j), (-0.6666666666666666+1.247219128924647j)\n"
     ]
    }
   ],
   "execution_count": 5
  },
  {
   "metadata": {},
   "cell_type": "code",
   "outputs": [],
   "execution_count": null,
   "source": "#Check if a string only certain digests.",
   "id": "95394b1b7332c134"
  }
 ],
 "metadata": {
  "kernelspec": {
   "display_name": "Python 3",
   "language": "python",
   "name": "python3"
  },
  "language_info": {
   "codemirror_mode": {
    "name": "ipython",
    "version": 2
   },
   "file_extension": ".py",
   "mimetype": "text/x-python",
   "name": "python",
   "nbconvert_exporter": "python",
   "pygments_lexer": "ipython2",
   "version": "2.7.6"
  }
 },
 "nbformat": 4,
 "nbformat_minor": 5
}
