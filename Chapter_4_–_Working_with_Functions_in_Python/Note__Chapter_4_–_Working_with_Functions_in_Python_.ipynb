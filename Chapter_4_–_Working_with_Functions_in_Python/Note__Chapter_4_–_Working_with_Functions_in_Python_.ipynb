{
 "cells": [
  {
   "metadata": {},
   "cell_type": "markdown",
   "source": [
    "## 函数 \n",
    "### 定义  \n",
    "函数是一个有组织、可重复使用的代码块，用于执行单个相关操作。函数为应用程序提供了更好的模块化和更高的代码重用率。\n",
    "函数块以关键字 `def` 开头，后跟函数名和括号 ( ( ) )\n",
    "`def function_name(parameters):`"
   ],
   "id": "8f6a8d596e6a5a59"
  },
  {
   "metadata": {
    "ExecuteTime": {
     "end_time": "2024-11-11T00:18:28.619914Z",
     "start_time": "2024-11-11T00:18:28.615360Z"
    }
   },
   "cell_type": "code",
   "source": [
    "def print_me(string):\n",
    "    print(string)\n",
    "    return\n",
    "print_me(\"Hello World\")"
   ],
   "id": "594517e191ca6c39",
   "outputs": [
    {
     "name": "stdout",
     "output_type": "stream",
     "text": [
      "Hello World\n"
     ]
    }
   ],
   "execution_count": 1
  },
  {
   "metadata": {
    "ExecuteTime": {
     "end_time": "2024-11-11T00:20:35.009128Z",
     "start_time": "2024-11-11T00:20:35.005213Z"
    }
   },
   "cell_type": "code",
   "source": [
    "def add(a,b):\n",
    "    c=a+b\n",
    "    return c\n",
    "add(3,4)"
   ],
   "id": "97f4cfc55efdd8af",
   "outputs": [
    {
     "data": {
      "text/plain": [
       "7"
      ]
     },
     "execution_count": 2,
     "metadata": {},
     "output_type": "execute_result"
    }
   ],
   "execution_count": 2
  },
  {
   "metadata": {},
   "cell_type": "markdown",
   "source": "创建一个change_List函数，将mylist追加一个值",
   "id": "614c7b3de33916d2"
  },
  {
   "metadata": {},
   "cell_type": "code",
   "outputs": [],
   "execution_count": null,
   "source": "",
   "id": "2d1be89e7e11b934"
  },
  {
   "metadata": {},
   "cell_type": "code",
   "outputs": [],
   "execution_count": null,
   "source": [
    "def change_list(mylist):\n",
    "    mylist.append([1,2,3])\n",
    "    print(\"Values inside the function\",mylist)\n",
    "    return\n",
    "mylist=[1,2,3]\n",
    "change_list(mylist)\n",
    "print(\"Values outside the function\",mylist)"
   ],
   "id": "4806796372a645ef"
  },
  {
   "metadata": {
    "ExecuteTime": {
     "end_time": "2024-11-11T00:44:26.378328Z",
     "start_time": "2024-11-11T00:44:26.374815Z"
    }
   },
   "cell_type": "code",
   "source": [
    "def modify(x):\n",
    "    x =15\n",
    "    print(x,id(x))\n",
    "    return x\n",
    "x =3\n",
    "modify(5)\n",
    "print(x,id(x))"
   ],
   "id": "8c9c5180e6c5fc73",
   "outputs": [
    {
     "name": "stdout",
     "output_type": "stream",
     "text": [
      "15 140705720499064\n",
      "3 140705720498680\n"
     ]
    }
   ],
   "execution_count": 7
  },
  {
   "metadata": {
    "ExecuteTime": {
     "end_time": "2024-11-11T01:11:10.450969Z",
     "start_time": "2024-11-11T01:11:10.446383Z"
    }
   },
   "cell_type": "code",
   "source": [
    "def add_num(a,b):\n",
    "    c=a+b\n",
    "    return c\n",
    "add_num(3,4)"
   ],
   "id": "85d30b1a18a8c20a",
   "outputs": [
    {
     "data": {
      "text/plain": [
       "7"
      ]
     },
     "execution_count": 9,
     "metadata": {},
     "output_type": "execute_result"
    }
   ],
   "execution_count": 9
  },
  {
   "metadata": {
    "ExecuteTime": {
     "end_time": "2024-11-11T01:11:51.860918Z",
     "start_time": "2024-11-11T01:11:51.857159Z"
    }
   },
   "cell_type": "code",
   "source": [
    "def check_even_or_odd(num):\n",
    "    if num%2==0:\n",
    "        ans=\"Even\"\n",
    "    else:\n",
    "        ans=\"Odd\"\n",
    "    return ans\n",
    "check_even_or_odd(5)"
   ],
   "id": "8b3b926a5167772a",
   "outputs": [
    {
     "data": {
      "text/plain": [
       "'Odd'"
      ]
     },
     "execution_count": 10,
     "metadata": {},
     "output_type": "execute_result"
    }
   ],
   "execution_count": 10
  },
  {
   "metadata": {
    "ExecuteTime": {
     "end_time": "2024-11-11T01:14:00.119236Z",
     "start_time": "2024-11-11T01:14:00.114891Z"
    }
   },
   "cell_type": "code",
   "source": [
    "def check_prime(num):\n",
    "    if num<=1:\n",
    "        ans=\"Prime\"\n",
    "    for i in range(2,num):\n",
    "        if i != num-1:\n",
    "            if num%i==0:\n",
    "                ans=\"Not prime\"\n",
    "                break\n",
    "        else:\n",
    "            ans=\"Prime\"\n",
    "            break\n",
    "    return ans\n",
    "check_prime(5)\n"
   ],
   "id": "8193aa43c6f41882",
   "outputs": [
    {
     "data": {
      "text/plain": [
       "'Prime'"
      ]
     },
     "execution_count": 11,
     "metadata": {},
     "output_type": "execute_result"
    }
   ],
   "execution_count": 11
  },
  {
   "metadata": {
    "ExecuteTime": {
     "end_time": "2024-11-11T01:15:01.963420Z",
     "start_time": "2024-11-11T01:15:01.959911Z"
    }
   },
   "cell_type": "code",
   "source": [
    "def print_factorial(num):\n",
    "    ans=1\n",
    "    for i in range(1,num+1):\n",
    "        ans*=i\n",
    "    return ans\n",
    "print_factorial(5)"
   ],
   "id": "81c480fc112cd132",
   "outputs": [
    {
     "data": {
      "text/plain": [
       "120"
      ]
     },
     "execution_count": 12,
     "metadata": {},
     "output_type": "execute_result"
    }
   ],
   "execution_count": 12
  },
  {
   "metadata": {},
   "cell_type": "markdown",
   "source": [
    "## 形参`Parameter（Param）`和实参`Argument（Arg）`的区别  \n",
    "定义函数 `def add(a,b)`时，a,b为实参  \n",
    "调用函数 `add(3,4)`时，3,4为实参  \n",
    "## 关键字参数  \n",
    "关键字参数是通过参数名进行传递的参数，它们不依赖于参数的位置。  \n",
    "可以在函数调用时指定参数名，这样参数的顺序可以与函数定义中的顺序不一致，不会引发错误。  \n",
    "使用关键字参数可以提高代码的可读性，并且使得函数调用更加清晰和明确。  \n",
    "## 位置参数  \n",
    "位置参数是函数定义中按照顺序声明的参数，调用函数时必须按照相同的顺序传递参数。  \n",
    "参数的位置和数量必须与函数定义中的位置参数相匹配，否则会引发错误。  \n",
    "位置参数传递的方式是根据参数在函数定义中的位置来匹配参数值。 \n",
    "## ! 若在定义函数给参数提前赋值(默认值)，即使不调用参数也可以运行。 \n",
    "## *不定长参数\n",
    "定义一个不定长位置参数 *args，它可以接受任意数量的位置参数。在函数体内，通过循环遍历 args 元组，将所有参数相加并返回结果。\n"
   ],
   "id": "22092db42f0c650a"
  },
  {
   "metadata": {
    "ExecuteTime": {
     "end_time": "2024-11-11T08:45:02.325669Z",
     "start_time": "2024-11-11T08:45:02.318695Z"
    }
   },
   "cell_type": "code",
   "source": [
    "def grocery(item,price):\n",
    "    print('Item = %s' %item)\n",
    "    print('Price = %s' %price)\n",
    "grocery(price=5,item=\"apple\")   #关键字参数调用\n",
    "grocery(\"banana\",35)    #位置参数"
   ],
   "id": "bad9eb8318a95515",
   "outputs": [
    {
     "name": "stdout",
     "output_type": "stream",
     "text": [
      "Item = apple\n",
      "Price = 5\n"
     ]
    }
   ],
   "execution_count": 1
  },
  {
   "metadata": {
    "ExecuteTime": {
     "end_time": "2024-11-11T08:53:15.846882Z",
     "start_time": "2024-11-11T08:53:15.839186Z"
    }
   },
   "cell_type": "code",
   "source": [
    "def plus(*args):    #不定长参数\n",
    "    a=0\n",
    "    for i in args:\n",
    "        a+=i\n",
    "    return a\n",
    "plus(1,2,3,4,5)"
   ],
   "id": "956e2f576db3c71a",
   "outputs": [
    {
     "data": {
      "text/plain": [
       "15"
      ]
     },
     "execution_count": 3,
     "metadata": {},
     "output_type": "execute_result"
    }
   ],
   "execution_count": 3
  },
  {
   "metadata": {
    "ExecuteTime": {
     "end_time": "2024-11-11T09:17:14.318649Z",
     "start_time": "2024-11-11T09:17:14.312173Z"
    }
   },
   "cell_type": "code",
   "source": [
    "def cauculator_(cau_type,*args):\n",
    "    if cau_type=='add':\n",
    "        return sum(args)\n",
    "    if cau_type=='multiply':\n",
    "        ans=1\n",
    "        for i in args:\n",
    "            ans*=i\n",
    "        return ans\n",
    "    if cau_type=='subtract':\n",
    "        ans=args[0]\n",
    "        for i in args:\n",
    "            if i == args[0]:\n",
    "                continue\n",
    "            else:\n",
    "                ans-=i\n",
    "        return ans\n",
    "    if cau_type=='divide':\n",
    "        ans=args[0]\n",
    "        for i in args:\n",
    "            if i == args[0]:\n",
    "                continue\n",
    "            if i == 0:\n",
    "                print(f\"{ans} cannot be divided by i.\")\n",
    "            else:\n",
    "                ans/=i\n",
    "        return ans\n",
    "cauculator_('subtract',3,4,5)\n",
    "            \n",
    "        "
   ],
   "id": "bb5b951f66ee18c0",
   "outputs": [
    {
     "data": {
      "text/plain": [
       "-6"
      ]
     },
     "execution_count": 5,
     "metadata": {},
     "output_type": "execute_result"
    }
   ],
   "execution_count": 5
  },
  {
   "metadata": {},
   "cell_type": "markdown",
   "source": [
    "## 内置函数  \n",
    "### 绝对值 `abs()`\n",
    "### 二进制 `bin()`\n",
    "### 累加 `sum()`\n",
    "### 将特殊符号转换成二进制 `ascii()`\n",
    "### 获取字符串长度`len()`\n",
    "### 将变量转换为本地变量`locals()`或全局变量`global()`\n",
    "global单独输出会作为字典"
   ],
   "id": "95b569553a46d662"
  },
  {
   "metadata": {},
   "cell_type": "code",
   "outputs": [],
   "execution_count": null,
   "source": "",
   "id": "1b996b82ad354450"
  },
  {
   "metadata": {},
   "cell_type": "code",
   "outputs": [],
   "execution_count": null,
   "source": "",
   "id": "a5c0bab2ed6fcceb"
  }
 ],
 "metadata": {
  "kernelspec": {
   "display_name": "Python 3",
   "language": "python",
   "name": "python3"
  },
  "language_info": {
   "codemirror_mode": {
    "name": "ipython",
    "version": 2
   },
   "file_extension": ".py",
   "mimetype": "text/x-python",
   "name": "python",
   "nbconvert_exporter": "python",
   "pygments_lexer": "ipython2",
   "version": "2.7.6"
  }
 },
 "nbformat": 4,
 "nbformat_minor": 5
}
