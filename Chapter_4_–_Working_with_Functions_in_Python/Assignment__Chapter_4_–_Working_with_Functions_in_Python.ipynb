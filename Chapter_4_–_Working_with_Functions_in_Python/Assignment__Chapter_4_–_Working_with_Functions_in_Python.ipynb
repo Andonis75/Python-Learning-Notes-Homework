{
 "cells": [
  {
   "cell_type": "markdown",
   "metadata": {},
   "source": [
    "#### 1. Write a Python function to find the Max of three numbers."
   ]
  },
  {
   "cell_type": "code",
   "metadata": {
    "ExecuteTime": {
     "end_time": "2024-11-18T00:22:15.099804Z",
     "start_time": "2024-11-18T00:22:15.096899Z"
    }
   },
   "source": [
    "def max_(a,b,c):\n",
    "    list_=[a,b,c]\n",
    "    for num in list_:\n",
    "        if num>=a and num>=b and num>=c:\n",
    "            return num\n",
    "a,b,c=4,5,6\n",
    "print(max_(a,b,c))"
   ],
   "outputs": [
    {
     "name": "stdout",
     "output_type": "stream",
     "text": [
      "6\n"
     ]
    }
   ],
   "execution_count": 4
  },
  {
   "cell_type": "markdown",
   "metadata": {},
   "source": [
    "#### 2. Write a Python function to sum all the numbers in a list.\n",
    "\n",
    "Sample List : (8, 2, 3, 0, 7)\n",
    "\n",
    "Expected Output : 20"
   ]
  },
  {
   "cell_type": "code",
   "metadata": {
    "ExecuteTime": {
     "end_time": "2024-11-18T00:21:56.575035Z",
     "start_time": "2024-11-18T00:21:56.569827Z"
    }
   },
   "source": [
    "def sum_(list_):\n",
    "    op=0\n",
    "    for i in list_:\n",
    "        op+=i\n",
    "    return op\n",
    "sum_([8,2,3,0,7])"
   ],
   "outputs": [
    {
     "data": {
      "text/plain": [
       "20"
      ]
     },
     "execution_count": 2,
     "metadata": {},
     "output_type": "execute_result"
    }
   ],
   "execution_count": 2
  },
  {
   "cell_type": "markdown",
   "metadata": {},
   "source": [
    "#### 3. Write a Python program to reverse a string.\n",
    "\n",
    "Sample String : \"1234abcd\"\n",
    "\n",
    "Expected Output : \"dcba4321\"\n"
   ]
  },
  {
   "cell_type": "code",
   "metadata": {
    "ExecuteTime": {
     "end_time": "2024-11-18T00:23:19.828468Z",
     "start_time": "2024-11-18T00:23:19.824464Z"
    }
   },
   "source": [
    "def palindrome(string):\n",
    "    str_list=[]\n",
    "    for i in range(len(string),0,-1):\n",
    "        str_list.append(string[i-1])\n",
    "    op=''.join(str_list)\n",
    "    return op\n",
    "palindrome(\"1234abcd\")"
   ],
   "outputs": [
    {
     "data": {
      "text/plain": [
       "'dcba4321'"
      ]
     },
     "execution_count": 8,
     "metadata": {},
     "output_type": "execute_result"
    }
   ],
   "execution_count": 8
  },
  {
   "cell_type": "markdown",
   "metadata": {},
   "source": [
    "#### 4. Write a Python function to check whether a number is in a given range.\n",
    "请输入range_,格式为(a,b)"
   ]
  },
  {
   "cell_type": "code",
   "metadata": {
    "ExecuteTime": {
     "end_time": "2024-11-18T00:26:04.247951Z",
     "start_time": "2024-11-18T00:25:54.199690Z"
    }
   },
   "source": [
    "def checkrange(n,range_):\n",
    "    if n in eval(range_):   #将字符串转换为一个范围\n",
    "        print(f\"{n} is in range\")\n",
    "    else:\n",
    "        print(f\"{n} is not in range\")\n",
    "    return\n",
    "n=int(input(\"Enter a number: \\n\"))\n",
    "range_=input(\"Enter a range: [Expected input:(a,b)]\")\n",
    "checkrange(n,range_)"
   ],
   "outputs": [
    {
     "name": "stdout",
     "output_type": "stream",
     "text": [
      "6 is not in range\n"
     ]
    }
   ],
   "execution_count": 9
  },
  {
   "cell_type": "markdown",
   "metadata": {},
   "source": [
    "#### 5. Write a Python function that accepts a string and calculate the number of upper-case letters and lower case letters.\n",
    "\n",
    "Sample String : 'The quick Brow Fox'\n",
    "\n",
    "Expected Output :\n",
    "\n",
    "No. of Upper case characters : 3\n",
    "\n",
    "No. of Lower case Characters : 12\n"
   ]
  },
  {
   "cell_type": "code",
   "metadata": {
    "ExecuteTime": {
     "end_time": "2024-11-18T00:29:23.226222Z",
     "start_time": "2024-11-18T00:29:23.222417Z"
    }
   },
   "source": [
    "def check_up_and_low(string):\n",
    "    upper=0\n",
    "    lower=0\n",
    "    for character in string:\n",
    "        if character.isupper():\n",
    "            upper+=1\n",
    "        elif character.islower():\n",
    "            lower+=1\n",
    "        else:\n",
    "            continue\n",
    "    print(f\"No. of Upper case characters : {upper}\\nNo. of Lower case characters : {lower}\")\n",
    "string=\"The quick Brow Fox\"\n",
    "check_up_and_low(string)\n",
    "            "
   ],
   "outputs": [
    {
     "name": "stdout",
     "output_type": "stream",
     "text": [
      "No. of Upper case characters : 3\n",
      "No. of Lower case characters : 12\n"
     ]
    }
   ],
   "execution_count": 14
  },
  {
   "cell_type": "markdown",
   "metadata": {},
   "source": [
    "#### 6. Write a Python program to create a lambda function that adds 15 to a given number passed in as an argument, also create a lambda function that multiplies argument x with argument y and print the result.\n"
   ]
  },
  {
   "cell_type": "code",
   "metadata": {
    "ExecuteTime": {
     "end_time": "2024-11-18T00:34:20.969151Z",
     "start_time": "2024-11-18T00:34:16.390766Z"
    }
   },
   "source": [
    "input_num=int(input(\"Enter a number: \\n\"))\n",
    "add_15 = lambda input_num: input_num+15\n",
    "x=int(input(\"Enter a number X: \\n\"))\n",
    "y=int(input(\"Enter a number Y: \\n\"))\n",
    "multiply= lambda x,y: x*y\n",
    "print(add_15(input_num))\n",
    "print(multiply(x,y))"
   ],
   "outputs": [
    {
     "name": "stdout",
     "output_type": "stream",
     "text": [
      "18\n",
      "20\n"
     ]
    }
   ],
   "execution_count": 17
  },
  {
   "cell_type": "markdown",
   "metadata": {},
   "source": [
    "#### 7. Write a Python program to sort a list of tuples using Lambda."
   ]
  },
  {
   "cell_type": "code",
   "metadata": {
    "ExecuteTime": {
     "end_time": "2024-11-18T00:37:17.303186Z",
     "start_time": "2024-11-18T00:37:17.299773Z"
    }
   },
   "source": [
    "tup=(\"Amy\",\"Bat\",\"QQ\",\"Cat\")\n",
    "a=lambda tup:sorted(list(tup))\n",
    "print(a(tup))"
   ],
   "outputs": [
    {
     "name": "stdout",
     "output_type": "stream",
     "text": [
      "['Amy', 'Bat', 'Cat', 'QQ']\n"
     ]
    }
   ],
   "execution_count": 22
  },
  {
   "cell_type": "markdown",
   "metadata": {},
   "source": [
    "#### 8. Write a Python program to create a function that takes one argument, and that argument will be multiplied with an unknown given number."
   ]
  },
  {
   "cell_type": "code",
   "metadata": {
    "ExecuteTime": {
     "end_time": "2024-11-18T00:41:05.561923Z",
     "start_time": "2024-11-18T00:41:03.864911Z"
    }
   },
   "source": [
    "def multiple_with_an_unknown_num(x):\n",
    "    unknown_num=5\n",
    "    return x*unknown_num\n",
    "x=int(input(\"Enter a number: \\n\"))\n",
    "multiple_with_an_unknown_num(x)"
   ],
   "outputs": [
    {
     "data": {
      "text/plain": [
       "15"
      ]
     },
     "execution_count": 23,
     "metadata": {},
     "output_type": "execute_result"
    }
   ],
   "execution_count": 23
  },
  {
   "cell_type": "markdown",
   "metadata": {},
   "source": [
    "#### 9. Write a Python program that accepts a hyphen-separated sequence of words as input and prints the words in a hyphen-separated sequence after sorting them alphabetically. Sample Items : green-red-yellow-black-white Expected Result : black-green-red-white-yellow "
   ]
  },
  {
   "cell_type": "code",
   "metadata": {
    "ExecuteTime": {
     "end_time": "2024-11-18T00:42:44.938174Z",
     "start_time": "2024-11-18T00:42:44.934895Z"
    }
   },
   "source": [
    "def sort_input_str(string):\n",
    "    list_=list(string.split('-'))\n",
    "    ans='-'.join(sorted(list_))\n",
    "    return ans\n",
    "sort_input_str('green-red-yellow-black-white')"
   ],
   "outputs": [
    {
     "data": {
      "text/plain": [
       "'black-green-red-white-yellow'"
      ]
     },
     "execution_count": 24,
     "metadata": {},
     "output_type": "execute_result"
    }
   ],
   "execution_count": 24
  },
  {
   "cell_type": "markdown",
   "metadata": {},
   "source": [
    "#### 10. Write a Python program to create Fibonacci series upto n using Lambda. "
   ]
  },
  {
   "metadata": {
    "ExecuteTime": {
     "end_time": "2024-11-18T12:49:02.726547Z",
     "start_time": "2024-11-18T12:48:59.105563Z"
    }
   },
   "cell_type": "code",
   "source": [
    "n=int(input(\"Enter a number: \\n\"))\n",
    "if n<=1:\n",
    "    print(1,1)\n",
    "else:\n",
    "    print(1,1,end=' ')\n",
    "    fibonacci=lambda a=1,b=1,n=100: (print(a+b,end=' '),fibonacci(b,a+b,n)) if a+b<=n else print(\"\\n\")\n",
    "    fibonacci(n=n)"
   ],
   "outputs": [
    {
     "name": "stdout",
     "output_type": "stream",
     "text": [
      "1 1 2 3 5 8 13 21 34 55 89 \n",
      "\n"
     ]
    }
   ],
   "execution_count": 2
  },
  {
   "cell_type": "markdown",
   "metadata": {},
   "source": [
    "#### 11. Write a Python program to count the even, odd numbers in a given array of integers using Lambda. "
   ]
  },
  {
   "cell_type": "code",
   "metadata": {
    "ExecuteTime": {
     "end_time": "2024-11-18T01:32:38.863459Z",
     "start_time": "2024-11-18T01:32:31.378520Z"
    }
   },
   "source": [
    "num=int(input(\"Enter a number: \\n\"))\n",
    "check_even_or_odd=lambda num: print('Even') if num%2==0 else 'Odd'\n",
    "check_even_or_odd(num)"
   ],
   "outputs": [
    {
     "name": "stdout",
     "output_type": "stream",
     "text": [
      "Even\n"
     ]
    }
   ],
   "execution_count": 57
  },
  {
   "cell_type": "markdown",
   "metadata": {},
   "source": [
    "#### 12. Write a Python program to square and cube every number in a given list of integers using Lambda."
   ]
  },
  {
   "cell_type": "code",
   "metadata": {
    "ExecuteTime": {
     "end_time": "2024-11-18T01:32:27.482561Z",
     "start_time": "2024-11-18T01:32:27.479324Z"
    }
   },
   "source": [
    "list_=[1,2,3,4,5]\n",
    "square=list(map(lambda x:x**2,list_))\n",
    "cube=list(map(lambda x:x**3,list_))\n",
    "print(square)\n",
    "print(cube)"
   ],
   "outputs": [
    {
     "name": "stdout",
     "output_type": "stream",
     "text": [
      "[1, 4, 9, 16, 25]\n",
      "[1, 8, 27, 64, 125]\n"
     ]
    }
   ],
   "execution_count": 56
  }
 ],
 "metadata": {
  "language_info": {
   "name": "python"
  },
  "kernelspec": {
   "name": "python3",
   "language": "python",
   "display_name": "Python 3 (ipykernel)"
  }
 },
 "nbformat": 4,
 "nbformat_minor": 2
}
