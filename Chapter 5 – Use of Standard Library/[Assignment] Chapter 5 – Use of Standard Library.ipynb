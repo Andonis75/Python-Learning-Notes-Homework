{
 "cells": [
  {
   "cell_type": "markdown",
   "metadata": {},
   "source": [
    "### 1. Write a Python program to calculate surface volume and area of a sphere. \n",
    "\n",
    "Note: A sphere is a perfectly round geometrical object in three-dimensional space that is the surface of a completely round ball. \n"
   ]
  },
  {
   "cell_type": "code",
   "metadata": {
    "ExecuteTime": {
     "end_time": "2024-11-25T00:59:55.606240Z",
     "start_time": "2024-11-25T00:59:55.603496Z"
    }
   },
   "source": [
    "import math\n",
    "pi = math.pi\n",
    "r = 30\n",
    "print(f\"The surface volume and area of a sphere is {round(4*pi*r*r,2)}\")"
   ],
   "outputs": [
    {
     "name": "stdout",
     "output_type": "stream",
     "text": [
      "The surface volume and area of a sphere is 11309.73\n"
     ]
    }
   ],
   "execution_count": 2
  },
  {
   "cell_type": "markdown",
   "metadata": {},
   "source": [
    "### 2. Write a Python program to convert a string to datetime. \n",
    "\n",
    "Sample String: Jan 1 2019 2:43PM \n",
    "\n",
    "Expected Output: 2019-01-01 14:43:00 \n"
   ]
  },
  {
   "cell_type": "code",
   "metadata": {
    "ExecuteTime": {
     "end_time": "2024-11-25T01:13:05.676436Z",
     "start_time": "2024-11-25T01:13:05.672822Z"
    }
   },
   "source": [
    "import datetime\n",
    "str_time=\"Jan 1 2019 2:43PM\"\n",
    "months=['Jan','Feb','Mar','Apr','May','Jun','Jul','Aug','Sep','Oct','Nov','Dec']\n",
    "mm,dd,YY,HM=str_time.split(\" \")\n",
    "for m in months:\n",
    "    if mm == m:\n",
    "        mm=months.index(m)+1\n",
    "HH,MM=map(int,HM[:-2].split(\":\"))\n",
    "if HM[-2:]==\"PM\":\n",
    "    HH+=12\n",
    "str_time_1=f\"{YY}-{mm}-{dd} {HH}:{MM}:00\"\n",
    "fmt_time=datetime.datetime.strptime(str_time_1,\"%Y-%m-%d %H:%M:%S\")\n",
    "print(fmt_time)"
   ],
   "outputs": [
    {
     "name": "stdout",
     "output_type": "stream",
     "text": [
      "2019-01-01 14:43:00\n"
     ]
    }
   ],
   "execution_count": 12
  },
  {
   "cell_type": "markdown",
   "metadata": {},
   "source": [
    "### 3. Write a Python program to subtract five days from current date. Go to the editor \n",
    "\n",
    "Sample Date \n",
    "\n",
    "Current Date: 2015-06-22 \n",
    "\n",
    "5 days before Current Date: 2015-06-17\n"
   ]
  },
  {
   "cell_type": "code",
   "metadata": {
    "ExecuteTime": {
     "end_time": "2024-11-25T01:20:11.798617Z",
     "start_time": "2024-11-25T01:20:11.795299Z"
    }
   },
   "source": [
    "import datetime\n",
    "cur_time=\"2015-06-22\"\n",
    "fmt_time=datetime.datetime.strptime(cur_time,\"%Y-%m-%d\")\n",
    "print((fmt_time-datetime.timedelta(days=5)).strftime(\"%Y-%m-%d\"))"
   ],
   "outputs": [
    {
     "name": "stdout",
     "output_type": "stream",
     "text": [
      "2015-06-17\n"
     ]
    }
   ],
   "execution_count": 19
  },
  {
   "cell_type": "markdown",
   "metadata": {},
   "source": [
    "### 4. Write a Python script to display the various Date Time formats - Go to the editor \n",
    "\n",
    "a) Current date and time \n",
    "\n",
    "b) Current year \n",
    "\n",
    "c) Month of year \n",
    "\n",
    "d) Week number of the year \n",
    "\n",
    "e) Weekday of the week \n",
    "\n",
    "f) Day of year \n",
    "\n",
    "g) Day of the month \n",
    "\n",
    "h) Day of week \n"
   ]
  },
  {
   "cell_type": "code",
   "metadata": {
    "ExecuteTime": {
     "end_time": "2024-11-25T01:27:26.626061Z",
     "start_time": "2024-11-25T01:27:26.621835Z"
    }
   },
   "source": [
    "import datetime\n",
    "now_time=datetime.datetime.today()\n",
    "print(f\"Current date and time: {now_time.strftime(\"%Y-%m-%d  %H:%M:%S\")}\")\n",
    "print(f\"Current year: {now_time.strftime(\"%Y\")}\")\n",
    "print(f\"Month of year: {now_time.strftime(\"%m\")}\")\n",
    "print(f\"Week number of the year: {now_time.isocalendar()[1]}\")\n",
    "print(f\"Weekday of the week: {now_time.isocalendar()[2]}\")\n",
    "print(f\"Day of year: {now_time.isocalendar()[1]*7+now_time.isocalendar()[2]}\")\n",
    "print(f\"Day of the month: {now_time.strftime(\"%d\")}\")\n",
    "print(f\"Day of week: {now_time.strftime(\"%A\")}\")\n"
   ],
   "outputs": [
    {
     "name": "stdout",
     "output_type": "stream",
     "text": [
      "Current date and time: 2024-11-25  09:27:26\n",
      "Current year: 2024\n",
      "Month of year: 11\n",
      "Week number of the year: 48\n",
      "Weekday of the week: 1\n",
      "Day of year: 337\n",
      "Day of the month: 25\n",
      "Day of week: Monday\n"
     ]
    }
   ],
   "execution_count": 28
  },
  {
   "cell_type": "markdown",
   "metadata": {},
   "source": [
    "### 5. Write a Python program to generate random integers in a specific numerical range. "
   ]
  },
  {
   "cell_type": "code",
   "metadata": {
    "ExecuteTime": {
     "end_time": "2024-11-25T01:31:22.190373Z",
     "start_time": "2024-11-25T01:31:22.187327Z"
    }
   },
   "source": [
    "import random\n",
    "range_=[1,100]\n",
    "print(random.randint(range_[0],range_[1]))"
   ],
   "outputs": [
    {
     "name": "stdout",
     "output_type": "stream",
     "text": [
      "49\n"
     ]
    }
   ],
   "execution_count": 35
  },
  {
   "cell_type": "markdown",
   "metadata": {},
   "source": [
    "### 6. Write a Python program to list only directories, files and all directories, files in a specified path."
   ]
  },
  {
   "cell_type": "code",
   "metadata": {
    "ExecuteTime": {
     "end_time": "2024-11-25T01:36:36.025182Z",
     "start_time": "2024-11-25T01:36:29.058055Z"
    }
   },
   "source": [
    "import os,glob\n",
    "path=os.getcwd()\n",
    "print(f\"The path is {path}\")\n",
    "print(f\"The files in the path: {glob.glob(f\"{path}/*\")}\")\n",
    "path_=input()\n",
    "os.chdir(path_)\n",
    "print(f\"The files in {path_}: {glob.glob(f\"{path_}/*\")}\")"
   ],
   "outputs": [
    {
     "name": "stdout",
     "output_type": "stream",
     "text": [
      "The path is E:\\PythonProgramming\\Python-Learning-Notes-and-Homework\\Python-Learning-Notes-Homework\\Chapter 5 – Use of Standard Library\n",
      "The files in the path: ['E:\\\\PythonProgramming\\\\Python-Learning-Notes-and-Homework\\\\Python-Learning-Notes-Homework\\\\Chapter 5 – Use of Standard Library\\\\test_4_sys.py', 'E:\\\\PythonProgramming\\\\Python-Learning-Notes-and-Homework\\\\Python-Learning-Notes-Homework\\\\Chapter 5 – Use of Standard Library\\\\[Assignment] Chapter 5 – Use of Standard Library.ipynb', 'E:\\\\PythonProgramming\\\\Python-Learning-Notes-and-Homework\\\\Python-Learning-Notes-Homework\\\\Chapter 5 – Use of Standard Library\\\\[Note] Chapter 5 – Use of Standard Library.ipynb']\n",
      "The files in E:\\PythonProgramming\\Python-Learning-Notes-and-Homework: ['E:\\\\PythonProgramming\\\\Python-Learning-Notes-and-Homework\\\\Python-Learning-Notes-Homework']\n"
     ]
    }
   ],
   "execution_count": 1
  }
 ],
 "metadata": {
  "language_info": {
   "name": "python"
  },
  "kernelspec": {
   "name": "python3",
   "language": "python",
   "display_name": "Python 3 (ipykernel)"
  }
 },
 "nbformat": 4,
 "nbformat_minor": 2
}
