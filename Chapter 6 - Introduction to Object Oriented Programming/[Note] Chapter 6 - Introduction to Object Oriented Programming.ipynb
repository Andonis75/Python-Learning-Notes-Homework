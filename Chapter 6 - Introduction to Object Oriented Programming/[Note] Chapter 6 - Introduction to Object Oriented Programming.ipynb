{
 "cells": [
  {
   "metadata": {},
   "cell_type": "markdown",
   "source": [
    "# 面向对象编程\n",
    ">面向对象程序设计是种具有对象概念的程序编程典范，同时也是一种程序开发的抽象方针。它可能包含数据、属性、代码与方法。对象则指的是类的实例。它将对象作为程序的基本单元，将程序和数据封装其中，以提高软件的重用性、灵活性和扩展性，对象里的程序可以访问及经常修改对象相关联的数据。在面向对象程序编程里，计算机程序会被设计成彼此相关的对象。\n",
    "## 主要概念\n",
    "- **类(Class)**: 用来描述具有相同的属性和方法的对象的集合，类是对象的蓝图或模板。它定义了一类对象共有的属性和行为。\n",
    "- **类变量(Class Variable)**：类变量在整个实例化的对象中是公用的。类变量是属于类本身的变量，而不是特定于某个对象的变量。\n",
    "- **实例变量 (Instance Variable)**：实例变量是属于对象的变量，它们存储在对象内部，并且每个对象都有自己独立的一份。\n",
    "- **对象(Object)**：对象是类的实例。每个对象都是根据类的定义创建出来的，并且拥有自己的状态（即实例变量）。\n",
    "- **方法 (Method)**：方法是定义在类中的函数，用于操作类或对象的属性。"
   ],
   "id": "45d102fb77dd4486"
  },
  {
   "metadata": {},
   "cell_type": "markdown",
   "source": [
    "## 实例与讲解\n",
    "我们创建了一个记录教学对象的信息系统，定义了`T_and_S`类。  \n",
    "其中:  \n",
    "- `total_count`就是类变量，他记录了教学对象的总人数。  \n",
    "- `def __init__`在类中定义的函数为方法，其中`__init__`类的构造函数或初始化方法，当创建了这个类的实例时就会调用该方法。实参应该使用小写。  \n",
    "  - 在类中，`self.Name` 为实例变量 \n",
    "  - `@classmethod` 为类方法，它使用 `@classmethod` 装饰器，可以通过类本身调用，也可以通过对象调用。\n",
    "- 通过对变量赋值类名加括号，内置属性，来创建不同的对象\n",
    "- 通过`对象.实例变量`来访问对象属性\n",
    "- 类变量`total_count`的值将在这个类的所有实例之间共享，在内部类或外部类使用 `T_and_S.total_count` 访问"
   ],
   "id": "199111e894073802"
  },
  {
   "cell_type": "code",
   "id": "initial_id",
   "metadata": {
    "collapsed": true,
    "ExecuteTime": {
     "end_time": "2024-11-28T00:50:30.795579Z",
     "start_time": "2024-11-28T00:50:30.786613Z"
    }
   },
   "source": [
    "class T_and_S:  #创建了一个T_and_S的类\n",
    "    \"\"\"记录老师和同学的信息\"\"\"    #类文档字符串\n",
    "    #类变量\n",
    "    total_count=0\n",
    "    \n",
    "    def __init__(self, name, age, role):   #方法（Method）\n",
    "        #实例变量\n",
    "        self.Name = name\n",
    "        self.Age = age\n",
    "        self.Role = role\n",
    "        # 每次创建一个新的对象时，总人数增加1\n",
    "        T_and_S.total_count+=1\n",
    "        \n",
    "    #类方法 \n",
    "    @classmethod\n",
    "    def get_total_count(cls):\n",
    "        return cls.total_count\n",
    "    \n",
    "#通过类创建不同对象\n",
    "Leo = T_and_S('Leo', 18, \"Student\")\n",
    "Sakura = T_and_S('Sakura', 22, \"Student\")\n",
    "Kshitij = T_and_S('Kshitij', 23, \"Teacher\")\n",
    "\n",
    "#访问属性\n",
    "print(\"There are {} People\".format(T_and_S.total_count))\n",
    "print(\"{} is a {} year old {}\".format(Leo.Name, Leo.Age, Leo.Role))"
   ],
   "outputs": [
    {
     "name": "stdout",
     "output_type": "stream",
     "text": [
      "There are 3 People\n",
      "Leo is a 18 year old Student\n"
     ]
    }
   ],
   "execution_count": 18
  },
  {
   "metadata": {},
   "cell_type": "markdown",
   "source": "## 编写 Python 类并使用对象",
   "id": "2fad4dea59d2f458"
  },
  {
   "metadata": {},
   "cell_type": "markdown",
   "source": [
    "### 创建类(Class)\n",
    "请看下面的示例，创建的 Employee 类包含两个字段，分别是 Employee id和姓名这两个字段。  \n",
    "该类还包含一个函数 display()，用于显示 Employee 的信息。"
   ],
   "id": "985399857af6c2d8"
  },
  {
   "metadata": {
    "ExecuteTime": {
     "end_time": "2024-11-28T00:31:22.938798Z",
     "start_time": "2024-11-28T00:31:22.934520Z"
    }
   },
   "cell_type": "code",
   "source": [
    "class Employee:\n",
    "    id = 10\n",
    "    name = \"Sam\"\n",
    "    def display(self):\n",
    "        print(self.name, self.id)\n",
    "        \n",
    "emp = Employee()\n",
    "emp.display()"
   ],
   "id": "b714112bdeb5ed97",
   "outputs": [
    {
     "name": "stdout",
     "output_type": "stream",
     "text": [
      "Sam 10\n"
     ]
    }
   ],
   "execution_count": 7
  },
  {
   "metadata": {},
   "cell_type": "markdown",
   "source": [
    "### 创建类的实例\n",
    "下面的示例创建了上例中定义的 Employee 类的实例。  \n",
    "其中,通过占位符来代替变量：  \n",
    "`%s`来替换字符串变量  \n",
    "`%d`来替换数字变量  \n",
    "通过转义字符来换行:  \n",
    "`\\n`来换行"
   ],
   "id": "3a28ed47e1cb0d39"
  },
  {
   "metadata": {
    "ExecuteTime": {
     "end_time": "2024-11-28T00:45:51.594988Z",
     "start_time": "2024-11-28T00:45:51.589756Z"
    }
   },
   "cell_type": "code",
   "source": [
    "class Employee:     \n",
    "    id = 10    \n",
    "    name = \"Sam\"     \n",
    "    def display (self):     \n",
    "        print(\"ID: %d \\nName: %s\"%(self.id,self.name))     \n",
    "    #Creating a emp instance of Employee class   \n",
    "    emp = Employee()     \n",
    "    emp.display()"
   ],
   "id": "1a46ea3ea5a3b02b",
   "outputs": [
    {
     "name": "stdout",
     "output_type": "stream",
     "text": [
      "ID: 10 \n",
      "Name: Sam\n"
     ]
    }
   ],
   "execution_count": 13
  },
  {
   "metadata": {},
   "cell_type": "markdown",
   "source": [
    "### 构造函数\n",
    "构造函数(`__init__`)是一种特殊的方法，用于初始化类的实例成员。  \n",
    "它接收`self`作为第一个关键字  \n",
    "有两种种类：\n",
    "- 参数化构造函数\n",
    "- 非参数化构造函数  \n",
    "以下分别为两种例子："
   ],
   "id": "8b6b220fc19feb97"
  },
  {
   "metadata": {
    "ExecuteTime": {
     "end_time": "2024-11-28T01:02:11.571330Z",
     "start_time": "2024-11-28T01:02:11.564499Z"
    }
   },
   "cell_type": "code",
   "source": [
    "class Employee:\n",
    "    count=0\n",
    "    \n",
    "    def __init__(self, id, name):\n",
    "        self.id = id\n",
    "        self.name = name\n",
    "        Employee.count+=1\n",
    "    \n",
    "    def display(self):\n",
    "        print(\"ID: %d \\nName: %s\"%(self.id,self.name))\n",
    "        print(\"There are {} employees\".format(self.count))\n",
    "        \n",
    "emp1 = Employee(1, \"Sam\")\n",
    "emp2 = Employee(2, \"Amy\")\n",
    "Employee.display(emp1)"
   ],
   "id": "437699c2dbbc2eca",
   "outputs": [
    {
     "name": "stdout",
     "output_type": "stream",
     "text": [
      "ID: 1 \n",
      "Name: Sam\n",
      "There are 2 employees\n"
     ]
    }
   ],
   "execution_count": 23
  },
  {
   "metadata": {
    "ExecuteTime": {
     "end_time": "2024-11-28T01:05:04.250488Z",
     "start_time": "2024-11-28T01:05:04.246770Z"
    }
   },
   "cell_type": "code",
   "source": [
    "class Employee:\n",
    "    def __init__(self):\n",
    "        print(\"这是非参数化构造函数\")\n",
    "    \n",
    "    def display(self,name):\n",
    "        print(\"Hello\",name)\n",
    "\n",
    "emp1=Employee()\n",
    "emp1.display(\"Hans\")"
   ],
   "id": "28951da27bcf656f",
   "outputs": [
    {
     "name": "stdout",
     "output_type": "stream",
     "text": [
      "这是非参数化构造函数\n",
      "Hello Hans\n"
     ]
    }
   ],
   "execution_count": 25
  },
  {
   "metadata": {},
   "cell_type": "markdown",
   "source": [
    "#### 构造函数的更多细节\n",
    "##### Python 默认构造函数\n",
    "当我们没有在类中包含构造函数或忘记声明构造函数时，该构造函数就会成为默认的构造函数。  \n",
    "它不执行任何任务，只是初始化对象。 请看下面的例子。"
   ],
   "id": "ec510affddd7bcda"
  },
  {
   "metadata": {},
   "cell_type": "code",
   "outputs": [],
   "execution_count": null,
   "source": [
    "class Employee:     \n",
    "    id = 10    \n",
    "    name = \"Sam\"     \n",
    "    def display (self):     \n",
    "        print(\"ID: %d \\nName: %s\"%(self.id,self.name))     \n",
    "    #Creating a emp instance of Employee class   \n",
    "    emp = Employee()     \n",
    "    emp.display()"
   ],
   "id": "d6ff1b17a2e0cb82"
  },
  {
   "metadata": {},
   "cell_type": "markdown",
   "source": [
    "##### 多个构造函数\n",
    "只会生效后面的一个，前面的会被覆盖掉。"
   ],
   "id": "394078eb7c586c5a"
  },
  {
   "metadata": {
    "ExecuteTime": {
     "end_time": "2024-11-28T01:09:55.781276Z",
     "start_time": "2024-11-28T01:09:55.776751Z"
    }
   },
   "cell_type": "code",
   "source": [
    "class Student:   \n",
    "    def __init__(self):   \n",
    "        print(\"The First Constructor\")   \n",
    "    def __init__(self):   \n",
    "        print(\"The second contructor\")   \n",
    "st = Student()  "
   ],
   "id": "a47c3589f762022f",
   "outputs": [
    {
     "name": "stdout",
     "output_type": "stream",
     "text": [
      "The second contructor\n"
     ]
    }
   ],
   "execution_count": 26
  },
  {
   "metadata": {},
   "cell_type": "markdown",
   "source": [
    "\n",
    "### 方法与函数、类和类的实例的区分\n",
    "类的方法与函数有一个区别，前者有一个**额外的第一个参数**名称`self`  \n",
    "而`self`指向的是类和地址，而`self.__class__`指向类。"
   ],
   "id": "a4b7d9d90dbc3bae"
  },
  {
   "metadata": {
    "ExecuteTime": {
     "end_time": "2024-11-28T00:55:21.653912Z",
     "start_time": "2024-11-28T00:55:21.649981Z"
    }
   },
   "cell_type": "code",
   "source": [
    "class Test:\n",
    "    def show(self):\n",
    "        print(self)\n",
    "        print(self.__class__)\n",
    "\n",
    "t = Test()\n",
    "t.show()"
   ],
   "id": "ac0ffd7965efc1f3",
   "outputs": [
    {
     "name": "stdout",
     "output_type": "stream",
     "text": [
      "<__main__.Test object at 0x000001EA4779BEF0>\n",
      "<class '__main__.Test'>\n"
     ]
    }
   ],
   "execution_count": 19
  },
  {
   "metadata": {},
   "cell_type": "markdown",
   "source": [
    "### 删除实例变量\n",
    "通过`del 对象.实例变量()`来删除其实例变量.  \n",
    "在删除后会报错`AttributeError: 'Employee' object has no attribute 'id'`"
   ],
   "id": "4143e22c148e6781"
  },
  {
   "metadata": {
    "ExecuteTime": {
     "end_time": "2024-11-28T00:46:26.699632Z",
     "start_time": "2024-11-28T00:46:26.686684Z"
    }
   },
   "cell_type": "code",
   "source": [
    "del emp.id\n",
    "emp.display()"
   ],
   "id": "678a00d1396d7c86",
   "outputs": [
    {
     "ename": "AttributeError",
     "evalue": "'Employee' object has no attribute 'id'",
     "output_type": "error",
     "traceback": [
      "\u001B[1;31m---------------------------------------------------------------------------\u001B[0m",
      "\u001B[1;31mAttributeError\u001B[0m                            Traceback (most recent call last)",
      "Cell \u001B[1;32mIn[15], line 1\u001B[0m\n\u001B[1;32m----> 1\u001B[0m \u001B[38;5;28;01mdel\u001B[39;00m \u001B[43memp\u001B[49m\u001B[38;5;241;43m.\u001B[39;49m\u001B[43mid\u001B[49m\n\u001B[0;32m      2\u001B[0m \u001B[38;5;28;01mtry\u001B[39;00m:\n\u001B[0;32m      3\u001B[0m     \u001B[38;5;28mprint\u001B[39m(\u001B[38;5;241m1\u001B[39m)\n",
      "\u001B[1;31mAttributeError\u001B[0m: 'Employee' object has no attribute 'id'"
     ]
    }
   ],
   "execution_count": 15
  },
  {
   "metadata": {},
   "cell_type": "markdown",
   "source": [
    "### 生成一个对象\n",
    "设置一个变量等于类名加括号,可以通过type()检查变量类型。"
   ],
   "id": "b6e654e4b189a820"
  },
  {
   "metadata": {
    "ExecuteTime": {
     "end_time": "2024-11-28T00:26:37.397270Z",
     "start_time": "2024-11-28T00:26:37.389399Z"
    }
   },
   "cell_type": "code",
   "source": [
    "class Test:\n",
    "    pass\n",
    "Obj = Test()\n",
    "type(Obj)"
   ],
   "id": "a3c98191a5ef9317",
   "outputs": [
    {
     "data": {
      "text/plain": [
       "__main__.Test"
      ]
     },
     "execution_count": 4,
     "metadata": {},
     "output_type": "execute_result"
    }
   ],
   "execution_count": 4
  },
  {
   "metadata": {},
   "cell_type": "markdown",
   "source": "",
   "id": "2936cbf562f9af63"
  },
  {
   "metadata": {},
   "cell_type": "markdown",
   "source": [
    "## 内置类函数(Built-in class functions)\n",
    "下表介绍了该类中定义的内置函数。\n",
    "|S.N| Function| Description |  \n",
    "| ---------- | ----------- |  ----------- |  \n",
    "|1 |getattr(obj,name,default) |用于访问对象的属性 |\n",
    "|2 |setattr(obj,name,value)| 用于为对象的特定属性设置特定值. |\n",
    "|3 |delattr(obj,name) |用于删除特定属性. |\n",
    "|4 |hasattr(obj,name) |如果对象包含某些特定属性，则返回 true. |"
   ],
   "id": "4c9977f6478d9f00"
  },
  {
   "metadata": {
    "ExecuteTime": {
     "end_time": "2024-11-28T01:16:04.523585Z",
     "start_time": "2024-11-28T01:16:04.512675Z"
    }
   },
   "cell_type": "code",
   "source": [
    "class Student: \n",
    "    def __init__(self, name, id, age): \n",
    "        self.name = name \n",
    "        self.id = id \n",
    "        self.age = age \n",
    "# 创建Student类对象   \n",
    "s = Student(\"John\", 101, 22) \n",
    "# 打印对象 s 的属性名称  \n",
    "print(getattr(s, 'name')) \n",
    "# 将属性 age 的值重置为 23\n",
    "setattr(s, \"age\", 23) \n",
    "# 打印 age 的修改值\n",
    "print(getattr(s, 'age')) \n",
    "# 如果学生包含名称为 id 的属性，则打印为 True\n",
    "print(hasattr(s, 'id')) \n",
    "# 删除 age 属性 \n",
    "delattr(s, 'age') \n",
    "# 这将导致错误，因为属性 age 已被删除\n",
    "print(s.age) "
   ],
   "id": "1e6a7ee35d9e9835",
   "outputs": [
    {
     "name": "stdout",
     "output_type": "stream",
     "text": [
      "John\n",
      "23\n",
      "True\n"
     ]
    },
    {
     "ename": "AttributeError",
     "evalue": "'Student' object has no attribute 'age'",
     "output_type": "error",
     "traceback": [
      "\u001B[1;31m---------------------------------------------------------------------------\u001B[0m",
      "\u001B[1;31mAttributeError\u001B[0m                            Traceback (most recent call last)",
      "Cell \u001B[1;32mIn[27], line 19\u001B[0m\n\u001B[0;32m     17\u001B[0m \u001B[38;5;28mdelattr\u001B[39m(s, \u001B[38;5;124m'\u001B[39m\u001B[38;5;124mage\u001B[39m\u001B[38;5;124m'\u001B[39m) \n\u001B[0;32m     18\u001B[0m \u001B[38;5;66;03m# 这将导致错误，因为属性 age 已被删除\u001B[39;00m\n\u001B[1;32m---> 19\u001B[0m \u001B[38;5;28mprint\u001B[39m(\u001B[43ms\u001B[49m\u001B[38;5;241;43m.\u001B[39;49m\u001B[43mage\u001B[49m) \n",
      "\u001B[1;31mAttributeError\u001B[0m: 'Student' object has no attribute 'age'"
     ]
    }
   ],
   "execution_count": 27
  },
  {
   "metadata": {},
   "cell_type": "markdown",
   "source": [
    "### 内置类属性(Built-in class attributes)\n",
    "除了其他属性，Python 类还包含一些内置的类属性，这些属性提供了关于类的信息。  \n",
    "下表给出了内置类属性。\n",
    "|S.N| Function| Description |  \n",
    "| ---------- | ----------- |  ----------- |  \n",
    "|1 |`__dict__` |它提供了包含类命名空间的信息|\n",
    "|2 |`__doc__`| 它包含一个字符串，该字符串的类为文档 |\n",
    "|3 |`__name__`|用于访问类名. |\n",
    "|4 |`__module__`|它用于访问其中类的模块 |\n",
    "|5 |`__bases__`|它包含一个元组，其中包括所有基类 |"
   ],
   "id": "d01e0de569908ea7"
  },
  {
   "metadata": {
    "ExecuteTime": {
     "end_time": "2024-11-28T01:23:48.949829Z",
     "start_time": "2024-11-28T01:23:48.945056Z"
    }
   },
   "cell_type": "code",
   "source": [
    "class Student:  \n",
    "    '这是关于类的文档'\n",
    "    def __init__(self,name,id,age):     \n",
    "        self.name = name\n",
    "        self.id = id  \n",
    "        self.age = age     \n",
    "    def display_details(self):     \n",
    "        print(\"Name:%s, ID:%d, age:%d\"%(self.name,self.id))     \n",
    "s = Student(\"John\",101,22)     \n",
    "print(s.__dict__)   \n",
    "print(s.__doc__)     \n",
    "print(s.__module__)   "
   ],
   "id": "323cc42bf08d3590",
   "outputs": [
    {
     "name": "stdout",
     "output_type": "stream",
     "text": [
      "{'name': 'John', 'id': 101, 'age': 22}\n",
      "这是关于类的文档\n",
      "__main__\n"
     ]
    }
   ],
   "execution_count": 33
  }
 ],
 "metadata": {
  "kernelspec": {
   "display_name": "Python 3",
   "language": "python",
   "name": "python3"
  },
  "language_info": {
   "codemirror_mode": {
    "name": "ipython",
    "version": 2
   },
   "file_extension": ".py",
   "mimetype": "text/x-python",
   "name": "python",
   "nbconvert_exporter": "python",
   "pygments_lexer": "ipython2",
   "version": "2.7.6"
  }
 },
 "nbformat": 4,
 "nbformat_minor": 5
}
